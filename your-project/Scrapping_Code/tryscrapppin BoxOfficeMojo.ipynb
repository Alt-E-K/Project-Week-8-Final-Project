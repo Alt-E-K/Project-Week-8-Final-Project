{
 "cells": [
  {
   "cell_type": "code",
   "execution_count": 49,
   "metadata": {},
   "outputs": [],
   "source": [
    "import re\n",
    "from selenium import webdriver\n",
    "from getpass import getpass\n",
    "import pandas as pd"
   ]
  },
  {
   "cell_type": "code",
   "execution_count": 2,
   "metadata": {},
   "outputs": [],
   "source": [
    "url = r'https://www.boxofficemojo.com/chart/ww_top_lifetime_gross/?area=XWW'"
   ]
  },
  {
   "cell_type": "code",
   "execution_count": 3,
   "metadata": {},
   "outputs": [],
   "source": [
    "driver = webdriver.Chrome(r'C:\\Users\\Usuario\\Desktop\\Project_scrapper\\chromedriver_win32\\chromedriver.exe')\n",
    "driver.get(url)"
   ]
  },
  {
   "cell_type": "code",
   "execution_count": 5,
   "metadata": {},
   "outputs": [],
   "source": [
    "title = driver.find_element_by_xpath('//*[@id=\"table\"]/div/table[2]/tbody/tr[2]/td[2]/a')\n",
    "//*[@id=\"table\"]/div/table[2]/tbody/tr[3]/td[2]/a\n",
    "//*[@id=\"table\"]/div/table[2]/tbody/tr[201]/td[2]/a\n",
    "//*[@id=\"table\"]/div/table[2]/tbody/tr[2]/td[2]/a"
   ]
  },
  {
   "cell_type": "code",
   "execution_count": 6,
   "metadata": {},
   "outputs": [
    {
     "data": {
      "text/plain": [
       "'Avengers: Endgame'"
      ]
     },
     "execution_count": 6,
     "metadata": {},
     "output_type": "execute_result"
    }
   ],
   "source": [
    "title.text"
   ]
  },
  {
   "cell_type": "code",
   "execution_count": 7,
   "metadata": {},
   "outputs": [],
   "source": [
    "movie_titles = []\n",
    "\n",
    "for i in range (2,202):\n",
    "    title = driver.find_element_by_xpath(f'//*[@id=\"table\"]/div/table[2]/tbody/tr[{i}]/td[2]/a')\n",
    "    title_tx = title.text\n",
    "    movie_titles.append(title_tx)"
   ]
  },
  {
   "cell_type": "code",
   "execution_count": 16,
   "metadata": {},
   "outputs": [
    {
     "data": {
      "text/plain": [
       "200"
      ]
     },
     "execution_count": 16,
     "metadata": {},
     "output_type": "execute_result"
    }
   ],
   "source": [
    "len(movie_titles)"
   ]
  },
  {
   "cell_type": "code",
   "execution_count": 10,
   "metadata": {},
   "outputs": [
    {
     "data": {
      "text/plain": [
       "'$2,797,800,564'"
      ]
     },
     "execution_count": 10,
     "metadata": {},
     "output_type": "execute_result"
    }
   ],
   "source": [
    "revenue = driver.find_element_by_xpath('//*[@id=\"table\"]/div/table[2]/tbody/tr[2]/td[3]')\n",
    "revenue.text"
   ]
  },
  {
   "cell_type": "code",
   "execution_count": 13,
   "metadata": {},
   "outputs": [],
   "source": [
    "ww_movie_revenue=[]\n",
    "for i in range (2,202):\n",
    "    revenue = driver.find_element_by_xpath(f'//*[@id=\"table\"]/div/table[2]/tbody/tr[{i}]/td[3]')\n",
    "    rev_txt = revenue.text\n",
    "    ww_movie_revenue.append(rev_txt)"
   ]
  },
  {
   "cell_type": "code",
   "execution_count": 15,
   "metadata": {},
   "outputs": [
    {
     "data": {
      "text/plain": [
       "200"
      ]
     },
     "execution_count": 15,
     "metadata": {},
     "output_type": "execute_result"
    }
   ],
   "source": [
    "len(ww_movie_revenue)"
   ]
  },
  {
   "cell_type": "code",
   "execution_count": 17,
   "metadata": {},
   "outputs": [],
   "source": [
    "movie_titles2 = []\n",
    "for i in range (2,202):\n",
    "    title = driver.find_element_by_xpath(f'//*[@id=\"table\"]/div/table[2]/tbody/tr[{i}]/td[2]/a')\n",
    "    title_tx = title.text\n",
    "    movie_titles2.append(title_tx)"
   ]
  },
  {
   "cell_type": "code",
   "execution_count": 26,
   "metadata": {},
   "outputs": [
    {
     "data": {
      "text/plain": [
       "200"
      ]
     },
     "execution_count": 26,
     "metadata": {},
     "output_type": "execute_result"
    }
   ],
   "source": [
    "len(movie_titles2)"
   ]
  },
  {
   "cell_type": "code",
   "execution_count": 19,
   "metadata": {},
   "outputs": [],
   "source": [
    "ww_movie_revenue2=[]\n",
    "for i in range (2,202):\n",
    "    revenue = driver.find_element_by_xpath(f'//*[@id=\"table\"]/div/table[2]/tbody/tr[{i}]/td[3]')\n",
    "    rev_txt = revenue.text\n",
    "    ww_movie_revenue2.append(rev_txt)"
   ]
  },
  {
   "cell_type": "code",
   "execution_count": 21,
   "metadata": {},
   "outputs": [
    {
     "data": {
      "text/plain": [
       "200"
      ]
     },
     "execution_count": 21,
     "metadata": {},
     "output_type": "execute_result"
    }
   ],
   "source": [
    "len(ww_movie_revenue2)"
   ]
  },
  {
   "cell_type": "code",
   "execution_count": 22,
   "metadata": {},
   "outputs": [],
   "source": [
    "movie_titles3 = []\n",
    "for i in range (2,202):\n",
    "    title = driver.find_element_by_xpath(f'//*[@id=\"table\"]/div/table[2]/tbody/tr[{i}]/td[2]/a')\n",
    "    title_tx = title.text\n",
    "    movie_titles3.append(title_tx)"
   ]
  },
  {
   "cell_type": "code",
   "execution_count": 27,
   "metadata": {},
   "outputs": [
    {
     "data": {
      "text/plain": [
       "200"
      ]
     },
     "execution_count": 27,
     "metadata": {},
     "output_type": "execute_result"
    }
   ],
   "source": [
    "len(movie_titles3)"
   ]
  },
  {
   "cell_type": "code",
   "execution_count": 24,
   "metadata": {},
   "outputs": [],
   "source": [
    "ww_movie_revenue3=[]\n",
    "for i in range (2,202):\n",
    "    revenue = driver.find_element_by_xpath(f'//*[@id=\"table\"]/div/table[2]/tbody/tr[{i}]/td[3]')\n",
    "    rev_txt = revenue.text\n",
    "    ww_movie_revenue3.append(rev_txt)"
   ]
  },
  {
   "cell_type": "code",
   "execution_count": 28,
   "metadata": {},
   "outputs": [
    {
     "data": {
      "text/plain": [
       "200"
      ]
     },
     "execution_count": 28,
     "metadata": {},
     "output_type": "execute_result"
    }
   ],
   "source": [
    "len(ww_movie_revenue3)"
   ]
  },
  {
   "cell_type": "code",
   "execution_count": 38,
   "metadata": {},
   "outputs": [],
   "source": [
    "movie_titles4 = []\n",
    "for i in range (2,202):\n",
    "    title = driver.find_element_by_xpath(f'//*[@id=\"table\"]/div/table[2]/tbody/tr[{i}]/td[2]/a')\n",
    "    title_tx = title.text\n",
    "    movie_titles4.append(title_tx)"
   ]
  },
  {
   "cell_type": "code",
   "execution_count": 39,
   "metadata": {},
   "outputs": [
    {
     "data": {
      "text/plain": [
       "['Men in Black: International',\n",
       " 'Wild Hogs',\n",
       " 'High School Musical 3',\n",
       " 'Hercules',\n",
       " 'X-Men: Dark Phoenix',\n",
       " 'True Grit',\n",
       " 'Bean',\n",
       " 'American Hustle',\n",
       " 'Enemy of the State',\n",
       " \"You've Got Mail\",\n",
       " 'Eragon',\n",
       " 'Brother Bear',\n",
       " 'The Mask of Zorro',\n",
       " 'The Ring',\n",
       " 'The Blair Witch Project',\n",
       " 'Unbreakable',\n",
       " 'Journey to the West: The Demons Strike Back',\n",
       " 'Dumb and Dumber',\n",
       " 'Glass',\n",
       " 'Grown Ups 2',\n",
       " 'The Peanuts Movie',\n",
       " 'Back to the Future Part III',\n",
       " 'The Godfather',\n",
       " 'Rango',\n",
       " 'Four Weddings and a Funeral',\n",
       " 'Face/Off',\n",
       " 'Teenage Mutant Ninja Turtles: Out of the Shadows',\n",
       " 'Dark Shadows',\n",
       " 'Hulk',\n",
       " 'The Bravest',\n",
       " 'Love Actually',\n",
       " 'Pixels',\n",
       " 'Hercules',\n",
       " 'Rush Hour',\n",
       " 'Journey to the Center of the Earth',\n",
       " 'After Earth',\n",
       " 'Dolittle',\n",
       " 'A Few Good Men',\n",
       " 'Cloudy with a Chance of Meatballs',\n",
       " '8 Mile',\n",
       " \"Daddy's Home\",\n",
       " 'RoboCop',\n",
       " 'Eraser',\n",
       " 'Alien: Covenant',\n",
       " 'Sully',\n",
       " \"Assassin's Creed\",\n",
       " 'Click',\n",
       " 'Die Hard 2',\n",
       " 'Resident Evil: Retribution',\n",
       " 'Crocodile Dundee II',\n",
       " 'Planes',\n",
       " 'Crazy Rich Asians',\n",
       " 'Batman & Robin',\n",
       " \"Gulliver's Travels\",\n",
       " 'Gone in 60 Seconds',\n",
       " 'Saturday Night Fever',\n",
       " 'Silver Linings Playbook',\n",
       " '2 Fast 2 Furious',\n",
       " \"Howl's Moving Castle\",\n",
       " 'Hidden Figures',\n",
       " 'A.I. Artificial Intelligence',\n",
       " 'Dead Poets Society',\n",
       " 'Spy',\n",
       " 'American Pie',\n",
       " 'American Reunion',\n",
       " 'Big Daddy',\n",
       " 'Alvin and the Chipmunks: The Road Chip',\n",
       " 'The Imitation Game',\n",
       " 'The Day the Earth Stood Still',\n",
       " 'American Wedding',\n",
       " 'The Girl with the Dragon Tattoo',\n",
       " 'Juno',\n",
       " 'Argo',\n",
       " \"Mr. Bean's Holiday\",\n",
       " 'The English Patient',\n",
       " 'Sister Act',\n",
       " 'Annabelle Comes Home',\n",
       " 'Constantine',\n",
       " 'Get Smart',\n",
       " 'Space Jam',\n",
       " 'Life Is Beautiful',\n",
       " 'The Heat',\n",
       " 'Ghostbusters',\n",
       " 'Ghost Rider',\n",
       " 'Goodbye Mr. Loser',\n",
       " 'Paddington 2',\n",
       " 'Sleepless in Seattle',\n",
       " 'Lethal Weapon 2',\n",
       " 'The Green Hornet',\n",
       " 'Out of Africa',\n",
       " 'Youth',\n",
       " 'Baby Driver',\n",
       " 'Immortals',\n",
       " 'Taken',\n",
       " 'Percy Jackson & the Olympians: The Lightning Thief',\n",
       " 'Hansel & Gretel: Witch Hunters',\n",
       " 'Good Will Hunting',\n",
       " 'Valerian and the City of a Thousand Planets',\n",
       " 'Better Days',\n",
       " 'Ford v Ferrari',\n",
       " 'Jumper',\n",
       " 'The Social Network',\n",
       " 'Chicken Run',\n",
       " 'Con Air',\n",
       " 'Interview with the Vampire: The Vampire Chronicles',\n",
       " 'Flightplan',\n",
       " 'Yes Man',\n",
       " 'Pulp Fiction',\n",
       " 'Non-Stop',\n",
       " 'Honey, I Shrunk the Kids',\n",
       " 'Fahrenheit 9/11',\n",
       " 'Wild Wild West',\n",
       " 'Elf',\n",
       " 'Geostorm',\n",
       " 'Presumed Innocent',\n",
       " 'Collateral',\n",
       " 'Scary Movie 3',\n",
       " 'Inferno',\n",
       " 'Knocked Up',\n",
       " 'Green Lantern',\n",
       " 'What Happens in Vegas',\n",
       " \"It's Complicated\",\n",
       " 'The Terminal',\n",
       " 'Captain Phillips',\n",
       " 'The Prince of Egypt',\n",
       " 'Jack Reacher',\n",
       " 'Kingdom of Heaven',\n",
       " 'Dirty Dancing',\n",
       " 'The Emoji Movie',\n",
       " 'Dracula Untold',\n",
       " 'Central Intelligence',\n",
       " 'Million Dollar Baby',\n",
       " 'The Help',\n",
       " 'Twins',\n",
       " \"Valentine's Day\",\n",
       " 'Bad Teacher',\n",
       " 'One Hundred and One Dalmatians',\n",
       " 'Clear and Present Danger',\n",
       " 'Ted 2',\n",
       " \"Bram Stoker's Dracula\",\n",
       " 'Vertical Limit',\n",
       " 'Ghostbusters II',\n",
       " 'The Patriot',\n",
       " \"The Sorcerer's Apprentice\",\n",
       " 'Just Go with It',\n",
       " 'The Expendables 3',\n",
       " 'The Fast and the Furious',\n",
       " 'Creed II',\n",
       " 'Public Enemies',\n",
       " 'Smallfoot',\n",
       " 'The Bourne Identity',\n",
       " 'Disclosure',\n",
       " 'The Aviator',\n",
       " 'Crouching Tiger, Hidden Dragon',\n",
       " 'Braveheart',\n",
       " 'Into the Woods',\n",
       " 'Bedtime Stories',\n",
       " 'Miss Congeniality',\n",
       " 'Entrapment',\n",
       " 'Ace Ventura: When Nature Calls',\n",
       " 'End of Days',\n",
       " \"Bridget Jones's Baby\",\n",
       " 'Battle Los Angeles',\n",
       " 'Fury',\n",
       " 'Australia',\n",
       " 'Due Date',\n",
       " 'Master and Commander: The Far Side of the World',\n",
       " \"Lemony Snicket's A Series of Unfortunate Events\",\n",
       " 'District 9',\n",
       " 'The Jungle Book',\n",
       " 'Moonraker',\n",
       " 'The Others',\n",
       " 'Horrible Bosses',\n",
       " 'Red Dragon',\n",
       " 'Little Women',\n",
       " 'Tomorrowland',\n",
       " 'Me Before You',\n",
       " 'Safe House',\n",
       " 'S.W.A.T.',\n",
       " 'Traffic',\n",
       " 'Paranormal Activity 3',\n",
       " 'Philadelphia',\n",
       " 'Sleepy Hollow',\n",
       " 'The Holiday',\n",
       " 'London Has Fallen',\n",
       " \"A Dog's Purpose\",\n",
       " 'The Break-Up',\n",
       " 'Journey to the West',\n",
       " 'JFK',\n",
       " 'White House Down',\n",
       " 'Fun with Dick and Jane',\n",
       " 'Eat Pray Love',\n",
       " \"You Don't Mess with the Zohan\",\n",
       " 'King Arthur',\n",
       " 'Hairspray',\n",
       " 'Yogi Bear',\n",
       " 'Everest',\n",
       " 'Vanilla Sky',\n",
       " 'Arrival',\n",
       " 'Need for Speed']"
      ]
     },
     "execution_count": 39,
     "metadata": {},
     "output_type": "execute_result"
    }
   ],
   "source": [
    "movie_titles4"
   ]
  },
  {
   "cell_type": "code",
   "execution_count": 31,
   "metadata": {},
   "outputs": [],
   "source": [
    "ww_movie_revenue4=[]\n",
    "for i in range (2,202):\n",
    "    revenue = driver.find_element_by_xpath(f'//*[@id=\"table\"]/div/table[2]/tbody/tr[{i}]/td[3]')\n",
    "    rev_txt = revenue.text\n",
    "    ww_movie_revenue4.append(rev_txt)"
   ]
  },
  {
   "cell_type": "code",
   "execution_count": 34,
   "metadata": {},
   "outputs": [
    {
     "data": {
      "text/plain": [
       "200"
      ]
     },
     "execution_count": 34,
     "metadata": {},
     "output_type": "execute_result"
    }
   ],
   "source": [
    "len(ww_movie_revenue4)"
   ]
  },
  {
   "cell_type": "code",
   "execution_count": 36,
   "metadata": {},
   "outputs": [],
   "source": [
    "movie_titles5 = []\n",
    "for i in range (2,202):\n",
    "    title = driver.find_element_by_xpath(f'//*[@id=\"table\"]/div/table[2]/tbody/tr[{i}]/td[2]/a')\n",
    "    title_tx = title.text\n",
    "    movie_titles5.append(title_tx)"
   ]
  },
  {
   "cell_type": "code",
   "execution_count": 42,
   "metadata": {},
   "outputs": [
    {
     "data": {
      "text/plain": [
       "200"
      ]
     },
     "execution_count": 42,
     "metadata": {},
     "output_type": "execute_result"
    }
   ],
   "source": [
    "len(movie_titles5)"
   ]
  },
  {
   "cell_type": "code",
   "execution_count": 40,
   "metadata": {},
   "outputs": [],
   "source": [
    "ww_movie_revenue5=[]\n",
    "for i in range (2,202):\n",
    "    revenue = driver.find_element_by_xpath(f'//*[@id=\"table\"]/div/table[2]/tbody/tr[{i}]/td[3]')\n",
    "    rev_txt = revenue.text\n",
    "    ww_movie_revenue5.append(rev_txt)"
   ]
  },
  {
   "cell_type": "code",
   "execution_count": 43,
   "metadata": {},
   "outputs": [
    {
     "data": {
      "text/plain": [
       "200"
      ]
     },
     "execution_count": 43,
     "metadata": {},
     "output_type": "execute_result"
    }
   ],
   "source": [
    "len(ww_movie_revenue5)"
   ]
  },
  {
   "cell_type": "code",
   "execution_count": 44,
   "metadata": {},
   "outputs": [],
   "source": [
    "all_movie_titles = movie_titles+movie_titles2+movie_titles3+movie_titles4+movie_titles5"
   ]
  },
  {
   "cell_type": "code",
   "execution_count": 45,
   "metadata": {},
   "outputs": [],
   "source": [
    "all_movie_revenues=ww_movie_revenue+ww_movie_revenue2+ww_movie_revenue3+ww_movie_revenue4+ww_movie_revenue5"
   ]
  },
  {
   "cell_type": "code",
   "execution_count": 50,
   "metadata": {},
   "outputs": [],
   "source": [
    "movies_gross = pd.DataFrame({'title':all_movie_titles,\n",
    "                     'gross_worldwide':all_movie_revenues},columns = ['title','gross_worldwide'])\n",
    " "
   ]
  },
  {
   "cell_type": "code",
   "execution_count": 52,
   "metadata": {},
   "outputs": [],
   "source": [
    "path=r'C:\\Users\\Usuario\\Desktop\\gits\\Project-Week-8-Final-Project'"
   ]
  },
  {
   "cell_type": "code",
   "execution_count": 53,
   "metadata": {},
   "outputs": [],
   "source": [
    "movies_gross.to_csv(path+'/'+'moviesgrossrev.csv')"
   ]
  },
  {
   "cell_type": "code",
   "execution_count": null,
   "metadata": {},
   "outputs": [],
   "source": []
  },
  {
   "cell_type": "code",
   "execution_count": null,
   "metadata": {},
   "outputs": [],
   "source": []
  }
 ],
 "metadata": {
  "kernelspec": {
   "display_name": "Python 3",
   "language": "python",
   "name": "python3"
  },
  "language_info": {
   "codemirror_mode": {
    "name": "ipython",
    "version": 3
   },
   "file_extension": ".py",
   "mimetype": "text/x-python",
   "name": "python",
   "nbconvert_exporter": "python",
   "pygments_lexer": "ipython3",
   "version": "3.7.6"
  }
 },
 "nbformat": 4,
 "nbformat_minor": 4
}
