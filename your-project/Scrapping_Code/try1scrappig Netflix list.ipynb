{
 "cells": [
  {
   "cell_type": "code",
   "execution_count": 2,
   "metadata": {},
   "outputs": [],
   "source": [
    "from bs4 import BeautifulSoup\n",
    "import  requests\n",
    "import numpy as np\n",
    "import pandas as pd\n"
   ]
  },
  {
   "cell_type": "code",
   "execution_count": 4,
   "metadata": {},
   "outputs": [
    {
     "data": {
      "text/plain": [
       "<!DOCTYPE html>\n",
       "<html class=\"no-js\" lang=\"en\"><head><meta content=\"text/html; charset=utf-8\" http-equiv=\"Content-Type\"/><meta content=\"width=device-width, initial-scale=1.0\" name=\"viewport\"/><meta content=\"#b9090b\" name=\"theme-color\"/><meta content=\"yes\" name=\"apple-mobile-web-app-capable\"/><meta content=\"black-translucent\" name=\"apple-mobile-web-app-status-bar-style\"/><meta content=\"What's on Netflix\" name=\"apple-mobile-web-app-title\"><meta content=\"#b9090b\" name=\"msapplication-TileColor\"/><link href=\"//gmpg.org/xfn/11\" rel=\"profile\"/><link href=\"/superpwa-manifest.json\" rel=\"manifest\"/><meta content=\"#b9090b\" name=\"theme-color\"/><link href=\"//www.whats-on-netflix.com/wp-content/uploads/2020/04/won-favicon-512-new.png\" rel=\"apple-touch-icon\" sizes=\"192x192\"/><link href=\"//www.whats-on-netflix.com/wp-content/uploads/2020/04/won-favicon.png\" rel=\"apple-touch-icon\" sizes=\"512x512\"/><title>Complete List of Movies on Netflix - What's on Netflix</title><meta content=\"index, follow\" name=\"robots\"><meta content=\"index, follow, max-snippet:-1, max-image-preview:large, max-video-preview:-1\" name=\"googlebot\"><meta content=\"index, follow, max-snippet:-1, max-image-preview:large, max-video-preview:-1\" name=\"bingbot\"><link href=\"//www.whats-on-netflix.com/library/movies/\" rel=\"canonical\"><meta content=\"en_US\" property=\"og:locale\"><meta content=\"article\" property=\"og:type\"><meta content=\"Complete List of Movies on Netflix - What's on Netflix\" property=\"og:title\"><meta content=\"Looking for every single movie currently streaming on Netflix? Then we’ve got the complete list of all the movies streaming on Netflix. Usually, you need a Netflix subscription to browse the full library but we’ve...\" property=\"og:description\"/><meta content=\"https://www.whats-on-netflix.com/library/movies/\" property=\"og:url\"/><meta content=\"What's on Netflix\" property=\"og:site_name\"/><meta content=\"https://www.facebook.com/whatsonnetflix/\" property=\"article:publisher\"/><meta content=\"2020-08-04T18:38:06+00:00\" property=\"article:modified_time\"/><meta content=\"https://www.whats-on-netflix.com/wp-content/uploads/2020/05/91910096_2791235050954699_7323800304976134144_o.jpg\" property=\"og:image\"/><meta content=\"1280\" property=\"og:image:width\"/><meta content=\"720\" property=\"og:image:height\"/><meta content=\"152322671608304\" property=\"fb:app_id\"/><meta content=\"summary_large_image\" name=\"twitter:card\"/><meta content=\"@kasey__moore\" name=\"twitter:creator\"/><meta content=\"@whatonnetflix\" name=\"twitter:site\"/><link href=\"//fonts.googleapis.com\" rel=\"dns-prefetch\"><link href=\"//cdnjs.cloudflare.com\" rel=\"dns-prefetch\"><link href=\"//www.googletagmanager.com\" rel=\"dns-prefetch\"><link href=\"//static.criteo.net\" rel=\"dns-prefetch\"/><link href=\"//optchk.ayads.co\" rel=\"dns-prefetch\"/><link href=\"//secure.adnxs.com\" rel=\"dns-prefetch\"/><link href=\"//acdn.adnxs.com\" rel=\"dns-prefetch\"/><link href=\"//c0.wp.com\" rel=\"dns-prefetch\"/><link crossorigin=\"\" href=\"//fonts.gstatic.com\" rel=\"preconnect\"/><link href=\"//fonts.googleapis.com/css2?family=Roboto%3Awght%40100%3B300%3B400%3B700&amp;display=swap&amp;ver=1.2\" id=\"webfont-css\" media=\"all\" rel=\"stylesheet\" type=\"text/css\"/><link data-minify=\"1\" href=\"//www.whats-on-netflix.com/wp-content/cache/min/1/wp-content/themes/whatsonnetflix/style-320fe22af1ec35002ebcd5ff5a26566b.css\" id=\"style-css\" media=\"all\" rel=\"stylesheet\" type=\"text/css\"/><link href=\"//cdnjs.cloudflare.com/ajax/libs/font-awesome/5.13.1/css/all.min.css?ver=1.0\" id=\"fontawesome-css\" media=\"all\" rel=\"stylesheet\" type=\"text/css\"/><style id=\"rocket-lazyload-inline-css\" type=\"text/css\">.rll-youtube-player{position:relative;padding-bottom:56.23%;height:0;overflow:hidden;max-width:100%}.rll-youtube-player iframe{position:absolute;top:0;left:0;width:100%;height:100%;z-index:100;background:0 0}.rll-youtube-player img{bottom:0;display:block;left:0;margin:auto;max-width:100%;width:100%;position:absolute;right:0;top:0;border:none;height:auto;cursor:pointer;-webkit-transition:.4s all;-moz-transition:.4s all;transition:.4s all}.rll-youtube-player img:hover{-webkit-filter:brightness(75%)}.rll-youtube-player .play{height:72px;width:72px;left:50%;top:50%;margin-left:-36px;margin-top:-36px;position:absolute;background:url(https://www.whats-on-netflix.com/wp-content/plugins/wp-rocket/assets/img/youtube.png) no-repeat;cursor:pointer}</style> <script id=\"jquery-js\" src=\"//c0.wp.com/c/5.5/wp-includes/js/jquery/jquery.js\" type=\"text/javascript\"></script> <script id=\"lazy-js\" src=\"//www.whats-on-netflix.com/wp-content/themes/whatsonnetflix/js/lazyload.min.js?ver=1.0\" type=\"text/javascript\"></script> <link href=\"//www.whats-on-netflix.com/wp-json/\" rel=\"https://api.w.org/\"/><link href=\"//www.whats-on-netflix.com/wp-json/wp/v2/pages/290967\" rel=\"alternate\" type=\"application/json\"/> <script async=\"\" data-no-minify=\"1\" src=\"//www.whats-on-netflix.com/wp-content/cache/busting/1/gtm-fe82198d5e9b3b3903f5e774bd22deb0.js\"></script> <script>window.dataLayer = window.dataLayer || [];\n",
       "\t\t\tfunction gtag(){dataLayer.push(arguments);}\n",
       "\t\t\tgtag('js', new Date());\n",
       "\t\t\tgtag('config', 'UA-24278952-15');</script> <script type=\"text/javascript\">sas_subscribe_data = {\"ajax\":\"https:\\/\\/www.whats-on-netflix.com\\/wp-admin\\/admin-ajax.php\",\"page\":\"https:\\/\\/www.whats-on-netflix.com:443\\/library\\/movies\\/\"}</script> <script type=\"application/ld+json\">{\"@context\":\"http://schema.org\",\"@type\":\"BreadcrumbList\",\"itemListElement\":[{\"@type\":\"ListItem\",\"position\":1,\"item\":{\"@id\":\"https://www.whats-on-netflix.com\",\"name\":\"What&#039;s on Netflix\"}},{\"@type\":\"ListItem\",\"position\":2,\"item\":{\"@id\":\"https://www.whats-on-netflix.com/library/\",\"name\":\"Netflix Library A-Z\"}},{\"@type\":\"ListItem\",\"position\":3,\"item\":{\"@id\":\"https://www.whats-on-netflix.com/library/movies/\",\"name\":\"Complete List of Movies on Netflix\"}}]}</script><script type=\"application/ld+json\">{\"@context\":\"http://schema.org\",\"@type\":\"Organization\",\"name\":\"What&#039;s On Netflix\",\"url\":\"https://www.whats-on-netflix.com\",\"logo\":\"https://www.whats-on-netflix.com/wp-content/uploads/2018/01/logo_schema.png\",\"sameAs\":[\"https://www.facebook.com/whatsonnetflix/\",\"https://twitter.com/whatonnetflix\",\"https://plus.google.com/+Whats-on-Netflix\",\"https://www.instagram.com/whatsonnetflix/\",\"https://www.youtube.com/channel/UCCiZMOW7aqZQ-H4Ec7Piz0w\",\"https://www.pinterest.co.uk/whatsonnetflix/\"]}</script><script type=\"application/ld+json\">{\"@context\":\"http://schema.org\",\"@type\":\"Article\",\"mainEntityOfPage\":{\"@type\":\"WebPage\",\"@id\":\"https://www.whats-on-netflix.com/library/movies/\"},\"headline\":\"Complete List of Movies on Netflix\",\"datePublished\":\"2018-06-22T07:14:27-0400\",\"dateModified\":\"2020-08-04T14:38:06-0400\",\"author\":{\"@type\":\"Person\",\"name\":\"Kasey Moore\"},\"description\":\"Looking for every single movie currently streaming on Netflix? Then we've got the complete list of all the mov\",\"image\":{\"@type\":\"ImageObject\",\"url\":\"https://www.whats-on-netflix.com/wp-content/uploads/2020/05/91910096_2791235050954699_7323800304976134144_o.jpg\",\"width\":1280,\"height\":720},\"publisher\":{\"@type\":\"Organization\",\"name\":\"What&#039;s On Netflix\",\"logo\":{\"@type\":\"ImageObject\",\"url\":\"https://www.whats-on-netflix.com/wp-content/uploads/2018/01/schema_logo.png\",\"width\":372,\"height\":60}}}</script> <meta content=\"wordpress-plugin\" name=\"onesignal\"/> <script>window.OneSignal = window.OneSignal || [];\n",
       "\n",
       "      OneSignal.push( function() {\n",
       "        OneSignal.SERVICE_WORKER_UPDATER_PATH = \"OneSignalSDKUpdaterWorker.js.php\";\n",
       "        OneSignal.SERVICE_WORKER_PATH = \"OneSignalSDKWorker.js.php\";\n",
       "        OneSignal.SERVICE_WORKER_PARAM = { scope: '/' };\n",
       "\n",
       "        OneSignal.setDefaultNotificationUrl(\"https://www.whats-on-netflix.com\");\n",
       "        var oneSignal_options = {};\n",
       "        window._oneSignalInitOptions = oneSignal_options;\n",
       "\n",
       "        oneSignal_options['wordpress'] = true;\n",
       "oneSignal_options['appId'] = '57b16f7e-9b3f-4733-b41b-d591f30d350c';\n",
       "oneSignal_options['welcomeNotification'] = { };\n",
       "oneSignal_options['welcomeNotification']['disable'] = true;\n",
       "oneSignal_options['path'] = \"https://www.whats-on-netflix.com/wp-content/plugins/onesignal-free-web-push-notifications/sdk_files/\";\n",
       "oneSignal_options['safari_web_id'] = \"web.onesignal.auto.32358c52-eb5f-4c9c-a5b8-d10e6e7ce454\";\n",
       "oneSignal_options['persistNotification'] = true;\n",
       "oneSignal_options['promptOptions'] = { };\n",
       "                OneSignal.init(window._oneSignalInitOptions);\n",
       "                OneSignal.showNativePrompt();      });\n",
       "\n",
       "      function documentInitOneSignal() {\n",
       "        var oneSignal_elements = document.getElementsByClassName(\"OneSignal-prompt\");\n",
       "\n",
       "        var oneSignalLinkClickHandler = function(event) { OneSignal.push(['registerForPushNotifications']); event.preventDefault(); };        for(var i = 0; i < oneSignal_elements.length; i++)\n",
       "          oneSignal_elements[i].addEventListener('click', oneSignalLinkClickHandler, false);\n",
       "      }\n",
       "\n",
       "      if (document.readyState === 'complete') {\n",
       "           documentInitOneSignal();\n",
       "      }\n",
       "      else {\n",
       "           window.addEventListener(\"load\", function(event){\n",
       "               documentInitOneSignal();\n",
       "          });\n",
       "      }</script> <link href=\"//www.whats-on-netflix.com/wp-content/uploads/2020/04/cropped-won-favicon-512-new-150x150.png\" rel=\"icon\" sizes=\"32x32\"/><link href=\"//www.whats-on-netflix.com/wp-content/uploads/2020/04/cropped-won-favicon-512-new.png\" rel=\"icon\" sizes=\"192x192\"/><link href=\"//www.whats-on-netflix.com/wp-content/uploads/2020/04/cropped-won-favicon-512-new.png\" rel=\"apple-touch-icon\"/><meta content=\"https://www.whats-on-netflix.com/wp-content/uploads/2020/04/cropped-won-favicon-512-new.png\" name=\"msapplication-TileImage\"/> <noscript><style id=\"rocket-lazyload-nojs-css\">.rll-youtube-player,[data-lazy-src]{display:none!important}</style></noscript> <script async=\"\" src=\"//s.grvmedia.com/js/whats-on-netflix-loader-min.js\"></script> </link></link></link></meta></meta></meta></link></meta></meta></meta></meta></head><body class=\"page-template page-template-page-templates page-template-movies page-template-page-templatesmovies-php page page-id-290967 page-child parent-pageid-13072 col-2cl full-width\"><div id=\"wrapper\"><header class=\"group\" id=\"header\"><div class=\"group\" id=\"header-top\"><div class=\"container group\"><div class=\"group pad\"><p class=\"site-title\"><a href=\"/\" rel=\"home\"><img alt=\"What's On Netflix Logo\" data-lazy-src=\"/wp-content/uploads/2018/12/whats-on-netflix-logo.png-2.png\" src=\"data:image/svg+xml,%3Csvg%20xmlns='http://www.w3.org/2000/svg'%20viewBox='0%200%200%200'%3E%3C/svg%3E\"/><noscript><img alt=\"What's On Netflix Logo\" src=\"/wp-content/uploads/2018/12/whats-on-netflix-logo.png-2.png\"/></noscript></a></p><ul class=\"social-links\"><li><a class=\"social-tooltip\" href=\"https://www.facebook.com/whatsonnetflix\" rel=\"noopener\" target=\"_blank\" title=\"What's on Netflix Facebook\"><i class=\"fab fa-facebook\"></i></a></li><li><a class=\"social-tooltip\" href=\"https://news.google.com/publications/CAAiEO3i5pWsiC2lmDPNipRMZAsqFAgKIhDt4uaVrIgtpZgzzYqUTGQL?oc=3&amp;ceid=GB:en\" rel=\"noopener\" target=\"_blank\" title=\"What's on Netflix Google News\"><i class=\"fab fa-google\"></i></a></li><li><a class=\"social-tooltip\" href=\"https://flipboard.com/@WhatsonNetflix\" rel=\"noopener\" target=\"_blank\" title=\"What's on Netflix Flipboard\"><i class=\"fab fa-flipboard\"></i></a></li><li><a class=\"social-tooltip\" href=\"https://www.twitter.com/whatonnetflix\" rel=\"noopener\" target=\"_blank\" title=\"What's on Netflix Twitter\"><i class=\"fab fa-twitter\"></i></a></li><li><a class=\"social-tooltip\" href=\"https://www.whats-on-netflix.com/feed/\" target=\"_blank\" title=\"What's on Netflix RSS Feed\"><i class=\"fa fa-rss-square\"></i></a></li></ul> <a aria-label=\"Subscribe to What's on Netflix\" class=\"btn trigger-not trigger-notification\" href=\"javascript:;\" title=\"Subscribe to What's on Netflix\"><div class=\"notification-panel\"> <i class=\"fa fa-bell faa-ring animated\"></i></div></a> <a aria-label=\"Search What's on Netflix\" class=\"btn trigger-not trigger-search\" href=\"javascript:;\" title=\"Search What's on Netflix\"><div class=\"toggle-search\"><i class=\"fa fa-search\"></i></div></a></div></div></div><div id=\"header-sticky\"><div class=\"group\" id=\"header-bottom\"><div class=\"container group\"><div class=\"group pad\"><nav class=\"nav-container group\" id=\"nav-header\"><ul class=\"nav group\" id=\"menu-main\"><li class=\"menu-item menu-item-type-taxonomy menu-item-object-category menu-item-285310\" id=\"menu-item-285310\"><a href=\"https://www.whats-on-netflix.com/whats-new/\">What’s New on Netflix</a></li><li class=\"menu-item menu-item-type-taxonomy menu-item-object-category menu-item-285335\" id=\"menu-item-285335\"><a href=\"https://www.whats-on-netflix.com/coming-soon/\">Coming Soon</a></li><li class=\"menu-item menu-item-type-taxonomy menu-item-object-category menu-item-285306\" id=\"menu-item-285306\"><a href=\"https://www.whats-on-netflix.com/leaving-soon/\">Leaving Soon</a></li><li class=\"menu-item menu-item-type-taxonomy menu-item-object-category menu-item-285307\" id=\"menu-item-285307\"><a href=\"https://www.whats-on-netflix.com/news/\">Netflix News</a></li><li class=\"menu-item menu-item-type-taxonomy menu-item-object-category menu-item-285309\" id=\"menu-item-285309\"><a href=\"https://www.whats-on-netflix.com/what-to-watch/\">What to Watch</a></li><li class=\"menu-item menu-item-type-taxonomy menu-item-object-category menu-item-409061\" id=\"menu-item-409061\"><a href=\"https://www.whats-on-netflix.com/new-netflix-dvd-releases/\">DVD’s</a></li><li class=\"menu-item menu-item-type-post_type menu-item-object-page menu-item-409062\" id=\"menu-item-409062\"><a href=\"https://www.whats-on-netflix.com/most-popular/\">Most Popular</a></li><li class=\"menu-item menu-item-type-post_type menu-item-object-page menu-item-285321\" id=\"menu-item-285321\"><a href=\"https://www.whats-on-netflix.com/originals/\">Netflix Originals</a></li><li class=\"menu-item menu-item-type-post_type menu-item-object-page current-page-ancestor menu-item-286365\" id=\"menu-item-286365\"><a href=\"https://www.whats-on-netflix.com/library/\">Netflix Library</a></li></ul></nav></div></div></div></div></header><div id=\"page\"><div class=\"title-banner\"><div class=\"container lists-container\"><div class=\"breadcrumbs post-category\"> <span><a class=\"home\" href=\"https://www.whats-on-netflix.com\" title=\"Go to What's on Netflix.\"><span>What's on Netflix</span></a></span> &gt; <span><a class=\"post post-page\" href=\"https://www.whats-on-netflix.com/library/\" title=\"Go to Netflix Library A-Z.\"><span>Netflix Library A-Z</span></a></span> &gt; <span><a class=\"post post-page current-item\" href=\"https://www.whats-on-netflix.com/library/movies/\" title=\"Go to Complete List of Movies on Netflix.\"><span>Complete List of Movies on Netflix</span></a></span></div><h1>Complete List of Movies on Netflix</h1> <small class=\"last-updated-banner\">Last updated: August 4th, 2020 </small></div></div><div class=\"container\"><div class=\"main\"><div class=\"main-inner group\"><div class=\"content\"><div class=\"pad group\"><article class=\"group post-290967 page type-page status-publish has-post-thumbnail\"><div class=\"entry themeform\"><p>Looking for every single movie currently streaming on Netflix? Then we’ve got the complete list of all the movies streaming on Netflix. Usually, you need a Netflix subscription to browse the full library but we’ve got a somewhat complete library of movies available on Netflix US right now.</p><h3>When does Netflix add new movies?</h3><p>Netflix adds new movies every day, you’ll want to keep an eye on our what’s new section and our specific new movies on Netflix pages to keep up to date.</p><h3>Are Netflix Original movies included in this list?</h3><p>Netflix Original movies are included in this list although if you only want to see Netflix Original movies, we offer a <a href=\"https://www.whats-on-netflix.com/originals/movies/\">full list of Netflix Original movies</a>.</p><hr/><div class=\"clear\"></div><h2>Full list of movies on Netflix</h2><div class=\"table-container\"><table data-page-length=\"25\" id=\"netflixlist\" width=\"100%\"><thead><tr><th></th><th class=\"align-left\" width=\"100px\">Cover</th><th class=\"align-left\" width=\"300px\">Title Name</th><th>Released</th><th>Rating</th><th>IMDb</th></tr></thead></table></div><hr/> <small>Disclaimer: Data presented is for Netflix US. May not 100% reflect the full Netflix library. </small> <script>function format ( d ) {\n",
       "    // `d` is the original data object for the row\n",
       "    return '<table cellpadding=\"5\" cellspacing=\"0\" style=\"padding-left:50px;\" class=\"sub-table\">'+\n",
       "       '<tr>'+\n",
       "            '<td class=\"align-left\" width=\"100px\"><b>Description:</b></td>'+\n",
       "            '<td class=\"align-left\" >'+d.description+'</td>'+\n",
       "        '</tr>'+\n",
       "\t\t'<tr>'+\n",
       "            '<td class=\"align-left\" width=\"100px\"><b>Actors:</b></td>'+\n",
       "            '<td class=\"align-left\" >'+d.actors+'</td>'+\n",
       "        '</tr>'+\n",
       "        '<tr>'+\n",
       "            '<td class=\"align-left\"><b>Director:</b></td>'+\n",
       "            '<td class=\"align-left\">'+d.director+'</td>'+\n",
       "        '</tr>'+\n",
       "        '<tr>'+\n",
       "            '<td class=\"align-left\"><b>Available in:</b></td>'+\n",
       "            '<td class=\"align-left\">'+d.quality+'</td>'+\n",
       "        '</tr>'+\n",
       "\t\t'<tr>'+\n",
       "            '<td class=\"align-left\"><b>Runtime:</b></td>'+\n",
       "            '<td class=\"align-left\">'+d.runtime+'</td>'+\n",
       "        '</tr>'+\n",
       "\t\t'<tr>'+\n",
       "            '<td class=\"align-left\"><b>Watch:</b></td>'+\n",
       "            '<td class=\"align-left\"><a href=\"https://netflix.com/title/'+d.netflixid+'\">Watch on Netflix</a></td>'+\n",
       "        '</tr>'+\n",
       "\t\n",
       "    '</table>';\n",
       "}\n",
       "\t\t\t\t\t\t\t\t\t\t\n",
       "\t\t\t\t\t\t\t\t\t\tjQuery(window).bind(\"load\", function() {\n",
       "   jQuery(document).ready(function() {\n",
       "     var table = jQuery('#netflixlist').DataTable( {\n",
       "        \"ajax\": {\n",
       "            \"url\": \"/wp-content/plugins/whats-on-netflix/json/movie.json\",\n",
       "            \"dataSrc\": \"\"\n",
       "        },\n",
       "        \"columns\": [\n",
       "\t\t\t{\n",
       "                \"className\":      'details-control',\n",
       "                \"orderable\":      false,\n",
       "                \"data\":           null,\n",
       "                \"defaultContent\": ''\n",
       "            },\n",
       "\t\t\t{ \"data\": \"image_landscape\", \"orderable\": false,\"render\" : function ( data) {\n",
       "return '<img width=\"250px\" src=\"'+data+'\"/>';\n",
       "}  },\n",
       "            { \"data\": \"title\", className: \"align-left\" },\n",
       "            { \"data\": \"titlereleased\", className: \"align-left\" },\n",
       "\t\t\t  {\"data\": \"rating\", className: \"align-left\" },\n",
       "\t\t\t{\"data\": \"imdb\", className: \"align-left\" },\n",
       "        ], columnDefs: [\n",
       "\t\t\t\t\t\t{ targets: [-1, -3], className: 'dt-body-right' }\n",
       "\t\t\t\t\t],\n",
       "\t     \"deferRender\": true,\n",
       "\t\t \"stateSave\": true,\n",
       "        \"deferLoading\": 50,\n",
       "    } );\n",
       "\t   \n",
       "\t \n",
       "\t    // Add event listener for opening and closing details\n",
       "    jQuery('#netflixlist tbody').on('click', 'td.details-control', function () {\n",
       "        var tr = jQuery(this).closest('tr');\n",
       "        var row = table.row( tr );\n",
       " \n",
       "        if ( row.child.isShown() ) {\n",
       "            // This row is already open - close it\n",
       "            row.child.hide();\n",
       "            tr.removeClass('shown');\n",
       "        }\n",
       "        else {\n",
       "            // Open this row\n",
       "            row.child( format(row.data()) ).show();\n",
       "            tr.addClass('shown');\n",
       "        }\n",
       "    } );\n",
       "\t   \n",
       "\t   \n",
       "\t   \n",
       "} );\n",
       "});</script> </div></article></div></div><div class=\"sidebar s1\"> <a class=\"sidebar-toggle\" title=\"Expand Sidebar\"><i class=\"fa icon-sidebar-toggle\"></i></a><div class=\"sidebar-content\"><div class=\"widget widget_text\" id=\"text-46\"><div class=\"textwidget\"></div></div></div></div></div></div></div></div></div></body></html><div class=\"GRVAd\" data-ad-sizes=\"[[300,600], [300,250]]\" data-ad-type=\"mpu\"></div><p></p><div class=\"widget widget_wpb_widget\" id=\"wpb_widget-2\"><a href=\"/whats-new/?utm_medium=rightside&amp;utm_source=whats-on-netflix\"><div class=\"originals-sidebar\"> <span class=\"new-titles-number\">31</span><p>new Netflix releases this week</p><hr/> See what's new <i class=\"fas fa-long-arrow-alt-right\"></i></div></a> <a href=\"/library/?utm_medium=rightside&amp;utm_source=whats-on-netflix\"><div class=\"library-sidebar\"> Browse entire Netflix Library <i class=\"fas fa-long-arrow-alt-right\"></i></div></a></div><div class=\"widget widget_text\" id=\"text-47\"><div class=\"textwidget\"></div></div><div class=\"GRVAd rha\" data-ad-refreshmapping=\"always\" data-ad-sizes=\"[300,250]\" data-ad-type=\"mpu\"></div><p></p><div class=\"widget widget_alx_tabs\" id=\"alxtabs-3\"><h3 class=\"group\"><span>Latest from What’s on Netflix</span></h3><div class=\"alx-tabs-container\"><ul class=\"alx-tab group thumbs-enabled\" id=\"tab-recent-3\"><li><div class=\"tab-item-thumbnail\"> <a aria-label=\"What’s New on Netflix &amp; Daily Top 10s: August 12th, 2020\" href=\"https://www.whats-on-netflix.com/whats-new/whats-new-on-netflix-daily-top-10s-august-12th-2020/\" title=\"What’s New on Netflix &amp; Daily Top 10s: August 12th, 2020\"> <img class=\"lazy\" data-src=\"//www.whats-on-netflix.com/wp-content/uploads/2020/08/mr-peabody-and-sherman-new-on-netflix-august-12th-160x160.jpg\" height=\"160px\" width=\"160px\"/> </a></div><div class=\"tab-item-inner group\"><p class=\"tab-item-category\"><a href=\"https://www.whats-on-netflix.com/whats-new/\" rel=\"category tag\">What's New on Netflix</a></p><p class=\"tab-item-title\"><a href=\"https://www.whats-on-netflix.com/whats-new/whats-new-on-netflix-daily-top-10s-august-12th-2020/\" rel=\"bookmark\" title=\"What’s New on Netflix &amp; Daily Top 10s: August 12th, 2020\">What’s New on Netflix &amp; Daily Top 10s: August 12th, 2020</a></p><p class=\"tab-item-date\">Aug 12, 2020</p></div></li><li><div class=\"tab-item-thumbnail\"> <a aria-label=\"Mecha Anime ‘Zoids Wild’ Season 1 Coming to Netflix in August 2020\" href=\"https://www.whats-on-netflix.com/news/mecha-anime-zoids-wild-season-1-coming-to-netflix-in-august-2020/\" title=\"Mecha Anime ‘Zoids Wild’ Season 1 Coming to Netflix in August 2020\"> <img class=\"lazy\" data-src=\"//www.whats-on-netflix.com/wp-content/uploads/2020/08/zoids-season-1-coming-to-netflix-in-august-2020-160x160.jpg\" height=\"160px\" width=\"160px\"/> </a></div><div class=\"tab-item-inner group\"><p class=\"tab-item-category\"><a href=\"https://www.whats-on-netflix.com/news/\" rel=\"category tag\">Netflix News</a></p><p class=\"tab-item-title\"><a href=\"https://www.whats-on-netflix.com/news/mecha-anime-zoids-wild-season-1-coming-to-netflix-in-august-2020/\" rel=\"bookmark\" title=\"Mecha Anime ‘Zoids Wild’ Season 1 Coming to Netflix in August 2020\">Mecha Anime ‘Zoids Wild’ Season 1 Coming to Netflix in August 2020</a></p><p class=\"tab-item-date\">Aug 12, 2020</p></div></li><li><div class=\"tab-item-thumbnail\"> <a aria-label=\"What’s Coming to Netflix in September 2020\" href=\"https://www.whats-on-netflix.com/coming-soon/whats-coming-to-netflix-in-september-2020-08-12/\" title=\"What’s Coming to Netflix in September 2020\"> <img class=\"lazy\" data-src=\"//www.whats-on-netflix.com/wp-content/uploads/2020/08/coming-to-netflix-in-september-2020-160x160.png\" height=\"160px\" width=\"160px\"/> </a></div><div class=\"tab-item-inner group\"><p class=\"tab-item-category\"><a href=\"https://www.whats-on-netflix.com/coming-soon/\" rel=\"category tag\">Coming Soon to Netflix</a></p><p class=\"tab-item-title\"><a href=\"https://www.whats-on-netflix.com/coming-soon/whats-coming-to-netflix-in-september-2020-08-12/\" rel=\"bookmark\" title=\"What’s Coming to Netflix in September 2020\">What’s Coming to Netflix in September 2020</a></p><p class=\"tab-item-date\">Aug 12, 2020</p></div></li><li><div class=\"tab-item-thumbnail\"> <a aria-label=\"What’s New on Netflix UK: August 12th, 2020\" href=\"https://www.whats-on-netflix.com/whats-new/uk/whats-new-on-netflix-uk-august-12th-2020/\" title=\"What’s New on Netflix UK: August 12th, 2020\"> <img class=\"lazy\" data-src=\"//www.whats-on-netflix.com/wp-content/uploads/2020/08/Whats-New-on-Netflix-UK-Today-August-12th-2020-160x160.jpg\" height=\"160px\" width=\"160px\"/> </a></div><div class=\"tab-item-inner group\"><p class=\"tab-item-category\"><a href=\"https://www.whats-on-netflix.com/whats-new/uk/\" rel=\"category tag\">What's New on Netflix United Kingdom (UK)</a></p><p class=\"tab-item-title\"><a href=\"https://www.whats-on-netflix.com/whats-new/uk/whats-new-on-netflix-uk-august-12th-2020/\" rel=\"bookmark\" title=\"What’s New on Netflix UK: August 12th, 2020\">What’s New on Netflix UK: August 12th, 2020</a></p><p class=\"tab-item-date\">Aug 12, 2020</p></div></li><li><div class=\"tab-item-thumbnail\"> <a aria-label=\"‘The Circle US’ Season 2: Netflix Release &amp; What We Know So Far\" href=\"https://www.whats-on-netflix.com/news/the-circle-us-season-2-netflix-release-what-we-know-so-far/\" title=\"‘The Circle US’ Season 2: Netflix Release &amp; What We Know So Far\"> <img class=\"lazy\" data-src=\"//www.whats-on-netflix.com/wp-content/uploads/2020/08/the-circle-season-2-netflix-2021-release-160x160.jpg\" height=\"160px\" width=\"160px\"/> </a></div><div class=\"tab-item-inner group\"><p class=\"tab-item-category\"><a href=\"https://www.whats-on-netflix.com/news/\" rel=\"category tag\">Netflix News</a></p><p class=\"tab-item-title\"><a href=\"https://www.whats-on-netflix.com/news/the-circle-us-season-2-netflix-release-what-we-know-so-far/\" rel=\"bookmark\" title=\"‘The Circle US’ Season 2: Netflix Release &amp; What We Know So Far\">‘The Circle US’ Season 2: Netflix Release &amp; What We Know So Far</a></p><p class=\"tab-item-date\">Aug 12, 2020</p></div></li></ul></div></div><footer id=\"footer\"><nav class=\"nav-container group\" id=\"nav-footer\"><div class=\"nav-toggle\"><i class=\"fa fa-bars\"></i></div><div class=\"nav-wrap\"><ul class=\"nav container group\" id=\"menu-footer\"><li class=\"menu-item menu-item-type-post_type menu-item-object-page menu-item-291737\" id=\"menu-item-291737\"><a href=\"https://www.whats-on-netflix.com/about-us/\">About Us</a></li><li class=\"menu-item menu-item-type-post_type menu-item-object-page menu-item-285301\" id=\"menu-item-285301\"><a href=\"https://www.whats-on-netflix.com/our-team/\">Our Team</a></li><li class=\"menu-item menu-item-type-post_type menu-item-object-page menu-item-7221\" id=\"menu-item-7221\"><a href=\"https://www.whats-on-netflix.com/contact/\">Contact</a></li><li class=\"menu-item menu-item-type-post_type menu-item-object-page menu-item-286382\" id=\"menu-item-286382\"><a href=\"https://www.whats-on-netflix.com/advertising/\">Advertising</a></li><li class=\"menu-item menu-item-type-post_type menu-item-object-page menu-item-privacy-policy menu-item-288045\" id=\"menu-item-288045\"><a href=\"https://www.whats-on-netflix.com/privacy-policy/\">Privacy Policy</a></li><li class=\"menu-item menu-item-type-post_type menu-item-object-page menu-item-2903\" id=\"menu-item-2903\"><a href=\"https://www.whats-on-netflix.com/terms-conditions/\">Terms &amp; Conditions</a></li><li class=\"menu-item menu-item-type-post_type menu-item-object-page menu-item-282772\" id=\"menu-item-282772\"><a href=\"https://www.whats-on-netflix.com/unsubscribe/\">Unsubscribe</a></li></ul></div></nav><div id=\"footer-bottom\"><div class=\"container\"><div class=\"pad group\"><div class=\"grid\"> <img alt=\"\" data-lazy-src=\"//www.whats-on-netflix.com/wp-content/uploads/2018/04/whats-on-netflix-logo.png\" id=\"footer-logo\" src=\"data:image/svg+xml,%3Csvg%20xmlns='http://www.w3.org/2000/svg'%20viewBox='0%200%200%200'%3E%3C/svg%3E\"/><noscript><img alt=\"\" id=\"footer-logo\" src=\"//www.whats-on-netflix.com/wp-content/uploads/2018/04/whats-on-netflix-logo.png\"/></noscript><div id=\"copyright\"><p>What’s on Netflix is not endorsed, moderated, owned by or affiliated with Netflix or any of its partners in any capacity. The authors of this site also have no affiliation with Netflix. What's on Netflix is a unofficial fansite for Netflix. All promotional material including but not limited to trailers, images and videos are all copyright to their respective owners. Netflix is a registered trademark of Netflix, Inc. All Rights Reserved. Copyright What's on Netflix 2018. What's on Netflix is a website of Posterity Information Technology Ltd</p></div></div></div></div></div></footer><div class=\"modal-wrapper\" id=\"search\"><div class=\"modal\"><div class=\"head\"><h2>Search What's on Netflix</h2> <a class=\"btn-close trigger trigger-search\" href=\"javascript:;\"></a></div><div class=\"modal-content\"><div id=\"search-3\"><form action=\"//www.whats-on-netflix.com/\" class=\"searchform themeform\" method=\"get\"><div> <input class=\"search\" name=\"s\" onblur=\"if(this.value=='')this.value='To search type and hit enter';\" onfocus=\"if(this.value=='To search type and hit enter')this.value='';\" type=\"text\" value=\"To search type and hit enter\"/></div></form></div></div></div></div><div class=\"modal-wrapper\" id=\"notification\"><div class=\"modal\"><div class=\"head\"><h2>Notifications from What's on Netflix</h2> <a class=\"btn-close trigger trigger-notification\" href=\"javascript:;\"></a></div><div class=\"modal-content\"><div class=\"smart-ajax-subscribe-form sas-style-elegant sas-elegant-red\" id=\"sas-form-sub-1\"><form> <input name=\"sas-form-service\" type=\"hidden\" value=\"db\"/> <input name=\"sas-form-list\" type=\"hidden\" value=\"default\"/> <input name=\"sas-form-code\" type=\"hidden\" value=\"9bf8df138d50284257c98146effb55e4\"/> <input name=\"sas-form-usename\" type=\"hidden\" value=\"hide\"/> <input name=\"sas-form-source\" type=\"hidden\" value=\"function\"/><div class=\"sas-form-body\"><h3 class=\"sas-form-title\">Subscribe to our Newsletter</h3><div class=\"sas-form-inside\"><div class=\"sas-form-before\">Enter your email address for weekly roundups of the biggest Netflix news.</div><div class=\"sas-form-email\"> <label for=\"sas-form-email\"> <span>Email Address<span class=\"sas-form-required\" title=\"This field is required\">*</span></span> <input class=\"sas-form-field sas-form-field-email\" data-sasreq=\"1\" name=\"sas-form-email\" placeholder=\"Your email address\" required=\"\" type=\"email\" value=\"\"/> </label></div><div class=\"sas-form-confirm-email\"> <label for=\"sas-form-confirm-email\"> <span>Email Address<span class=\"sas-form-required\" title=\"This field is required\">*</span></span> <input name=\"sas-form-confirm-email\" placeholder=\"Your email address\" type=\"email\"/> </label></div> <input class=\"sas-form-field-optin\" name=\"sas-form-optin\" type=\"hidden\" value=\"confirm\"/><div class=\"sas-form-submit\"> <input class=\"sas-form-field-submit\" name=\"sas-form-submit\" type=\"submit\" value=\"Subscribe\"/></div></div></div><div class=\"sas-form-control\"><div class=\"sas-form-message-wait\">Please wait...</div><div class=\"sas-form-message-success\">You are successfully subscribed!</div><div class=\"sas-form-message-error\">There was an error with subscription attempt.</div></div></form></div> <br/><div id=\"onesignalwidget-4\"><a class=\"OneSignal-prompt\" href=\"#\">Subscribe to notifications</a></div></div></div></div> <script id=\"sas-subscribe-js\" src=\"//www.whats-on-netflix.com/wp-content/plugins/smart-ajax-subscribe/js/subscribe.min.js?ver=4.3\" type=\"text/javascript\"></script> <script id=\"superpwa-register-sw-js-extra\" type=\"text/javascript\">/* <![CDATA[ */ var superpwa_sw = {\"url\":\"\\/OneSignalSDKWorker.js.php\"}; /* ]]> */</script> <script data-minify=\"1\" id=\"superpwa-register-sw-js\" src=\"//www.whats-on-netflix.com/wp-content/cache/min/1/wp-content/plugins/super-progressive-web-apps/public/js/register-sw-4f6038239e46e5b518d6aaeca3544e81.js\" type=\"text/javascript\"></script> <script id=\"owl-carousel-js\" src=\"//www.whats-on-netflix.com/wp-content/themes/whatsonnetflix/js/owl.carousel.min.js\" type=\"text/javascript\"></script> <script data-minify=\"1\" id=\"writeup-scripts-js\" src=\"//www.whats-on-netflix.com/wp-content/cache/min/1/wp-content/themes/whatsonnetflix/js/scripts-20da68e79c3dbcecd9379a882c81a198.js\" type=\"text/javascript\"></script> <script id=\"q2w3_fixed_widget-js-extra\" type=\"text/javascript\">/* <![CDATA[ */ var q2w3_sidebar_options = [{\"sidebar\":\"primary\",\"margin_top\":10,\"margin_bottom\":350,\"stop_id\":\"nav-footer\",\"screen_max_width\":500,\"screen_max_height\":0,\"width_inherit\":false,\"refresh_interval\":0,\"window_load_hook\":true,\"disable_mo_api\":false,\"widgets\":[\"text-47\",\"alxtabs-3\"]}]; /* ]]> */</script> <script id=\"q2w3_fixed_widget-js\" src=\"//www.whats-on-netflix.com/wp-content/plugins/q2w3-fixed-widget/js/q2w3-fixed-widget.min.js?ver=5.1.9\" type=\"text/javascript\"></script> <script async=\"async\" id=\"remote_sdk-js\" src=\"//cdn.onesignal.com/sdks/OneSignalSDK.js?ver=5.5\" type=\"text/javascript\"></script> <script>window.lazyLoadOptions={elements_selector:\"img[data-lazy-src],.rocket-lazyload,iframe[data-lazy-src]\",data_src:\"lazy-src\",data_srcset:\"lazy-srcset\",data_sizes:\"lazy-sizes\",class_loading:\"lazyloading\",class_loaded:\"lazyloaded\",threshold:300,callback_loaded:function(element){if(element.tagName===\"IFRAME\"&&element.dataset.rocketLazyload==\"fitvidscompatible\"){if(element.classList.contains(\"lazyloaded\")){if(typeof window.jQuery!=\"undefined\"){if(jQuery.fn.fitVids){jQuery(element).parent().fitVids()}}}}}};window.addEventListener('LazyLoad::Initialized',function(e){var lazyLoadInstance=e.detail.instance;if(window.MutationObserver){var observer=new MutationObserver(function(mutations){var image_count=0;var iframe_count=0;var rocketlazy_count=0;mutations.forEach(function(mutation){for(i=0;i<mutation.addedNodes.length;i++){if(typeof mutation.addedNodes[i].getElementsByTagName!=='function'){return}\n",
       "if(typeof mutation.addedNodes[i].getElementsByClassName!=='function'){return}\n",
       "images=mutation.addedNodes[i].getElementsByTagName('img');is_image=mutation.addedNodes[i].tagName==\"IMG\";iframes=mutation.addedNodes[i].getElementsByTagName('iframe');is_iframe=mutation.addedNodes[i].tagName==\"IFRAME\";rocket_lazy=mutation.addedNodes[i].getElementsByClassName('rocket-lazyload');image_count+=images.length;iframe_count+=iframes.length;rocketlazy_count+=rocket_lazy.length;if(is_image){image_count+=1}\n",
       "if(is_iframe){iframe_count+=1}}});if(image_count>0||iframe_count>0||rocketlazy_count>0){lazyLoadInstance.update()}});var b=document.getElementsByTagName(\"body\")[0];var config={childList:!0,subtree:!0};observer.observe(b,config)}},!1)</script><script async=\"\" data-no-minify=\"1\" src=\"//www.whats-on-netflix.com/wp-content/plugins/wp-rocket/assets/js/lazyload/16.1/lazyload.min.js\"></script><script>function lazyLoadThumb(e){var t='<img loading=\"lazy\" data-lazy-src=\"//i.ytimg.com/vi/ID/hqdefault.jpg\" alt=\"\" width=\"480\" height=\"360\"><noscript><img src=\"//i.ytimg.com/vi/ID/hqdefault.jpg\" alt=\"\" width=\"480\" height=\"360\"></noscript>',a='<div class=\"play\"></div>';return t.replace(\"ID\",e)+a}function lazyLoadYoutubeIframe(){var e=document.createElement(\"iframe\"),t=\"ID?autoplay=1\";t+=0===this.dataset.query.length?'':'&'+this.dataset.query;e.setAttribute(\"src\",t.replace(\"ID\",this.dataset.src)),e.setAttribute(\"frameborder\",\"0\"),e.setAttribute(\"allowfullscreen\",\"1\"),e.setAttribute(\"allow\", \"accelerometer; autoplay; encrypted-media; gyroscope; picture-in-picture\"),this.parentNode.replaceChild(e,this)}document.addEventListener(\"DOMContentLoaded\",function(){var e,t,a=document.getElementsByClassName(\"rll-youtube-player\");for(t=0;t<a.length;t++)e=document.createElement(\"div\"),e.setAttribute(\"data-id\",a[t].dataset.id),e.setAttribute(\"data-query\", a[t].dataset.query),e.setAttribute(\"data-src\", a[t].dataset.src),e.innerHTML=lazyLoadThumb(a[t].dataset.id),e.onclick=lazyLoadYoutubeIframe,a[t].appendChild(e)});</script><script>var myLazyLoad = new LazyLoad({elements_selector: \".lazy\",});</script> <div class=\"GRVAd outofpage\" data-ad-type=\"outofpage\"></div><div class=\"GRVAd leaderboard-fixed\" data-ad-fixedmapping=\"leaderboard\" data-ad-refreshmapping=\"leaderboard\" data-ad-sizemapping=\"leaderboardNoBillboard\" data-ad-sizes=\"[[728,90],[320,50]]\" data-ad-type=\"leaderboard-fixed\"></div>"
      ]
     },
     "execution_count": 4,
     "metadata": {},
     "output_type": "execute_result"
    }
   ],
   "source": [
    "url = r'https://www.whats-on-netflix.com/library/movies/'\n",
    "page = requests.get(url)\n",
    "parsed = BeautifulSoup(page.content,'html.parser') #lxml to go faster when there is a lot of data.\n",
    "\n",
    "parsed"
   ]
  },
  {
   "cell_type": "markdown",
   "metadata": {},
   "source": [
    "NOPE, lets try selenium"
   ]
  },
  {
   "cell_type": "code",
   "execution_count": 5,
   "metadata": {},
   "outputs": [],
   "source": [
    "import re\n",
    "from selenium import webdriver\n",
    "from getpass import getpass"
   ]
  },
  {
   "cell_type": "code",
   "execution_count": 6,
   "metadata": {},
   "outputs": [],
   "source": [
    "url = r'https://www.whats-on-netflix.com/library/movies/'"
   ]
  },
  {
   "cell_type": "code",
   "execution_count": 7,
   "metadata": {},
   "outputs": [],
   "source": [
    "driver = webdriver.Chrome(r'C:\\Users\\Usuario\\Desktop\\Project_scrapper\\chromedriver_win32\\chromedriver.exe')\n",
    "driver.get(url)"
   ]
  },
  {
   "cell_type": "code",
   "execution_count": 8,
   "metadata": {},
   "outputs": [],
   "source": [
    "accept_cookies=driver.find_element_by_xpath('//*[@id=\"qcCmpButtons\"]/button[2]')\n",
    "accept_cookies.click()"
   ]
  },
  {
   "cell_type": "code",
   "execution_count": 9,
   "metadata": {},
   "outputs": [],
   "source": [
    "entries_selector=driver.find_element_by_xpath('//*[@id=\"netflixlist_length\"]/label/select')\n",
    "entries_selector.click()"
   ]
  },
  {
   "cell_type": "code",
   "execution_count": 12,
   "metadata": {},
   "outputs": [],
   "source": [
    "number_entries=driver.find_element_by_xpath('//*[@id=\"netflixlist_length\"]/label/select/option[4]')\n",
    "number_entries.click()"
   ]
  },
  {
   "cell_type": "code",
   "execution_count": 21,
   "metadata": {},
   "outputs": [],
   "source": [
    "table1=driver.find_element_by_xpath('//*[@id=\"netflixlist\"]/tbody')"
   ]
  },
  {
   "cell_type": "code",
   "execution_count": 22,
   "metadata": {},
   "outputs": [],
   "source": [
    "table1_raw = table1.text"
   ]
  },
  {
   "cell_type": "code",
   "execution_count": 25,
   "metadata": {},
   "outputs": [],
   "source": [
    "table2=driver.find_element_by_xpath('//*[@id=\"netflixlist\"]/tbody')"
   ]
  },
  {
   "cell_type": "code",
   "execution_count": 26,
   "metadata": {},
   "outputs": [],
   "source": [
    "table2_raw = table2.text"
   ]
  },
  {
   "cell_type": "code",
   "execution_count": 27,
   "metadata": {},
   "outputs": [
    {
     "data": {
      "text/plain": [
       "\"Berlin, I Love You 2019 R 4.6/10\\nBethany Hamilton: Unstoppable 2019 PG 7.3/10\\nBetween Worlds 2018 R 4.4/10\\nBeyond Skyline 2017 R 5.3/10\\nBeyond the Mat 1999 R 7.6/10\\nBig Kill 2018 R 5.2/10\\nBig Miracle 2012 PG 6.5/10\\nBig Stone Gap 2014 PG-13 5.6/10\\nBird Box 2018 R 6.6/10\\nBittoo Boss 2012 TV-14 4.1/10\\nBlack Sea 2015 R 6.4/10\\nBlackfish 2013 PG-13 8.1/10\\nBleed for This 2016 R 6.8/10\\nBlood Father 2016 R 6.4/10\\nBlood Money 2012 TV-14 5.0/10\\nBlood Money 2017 R 4.4/10\\nBloodsport 1988 R 6.8/10\\nBlue Is the Warmest Color 2013 NC-17 7.7/10\\nBlue Ruin 2013 R 7.1/10\\nBombay Talkies 2013 TV-MA 6.7/10\\nBorn Racer 2018 R 5.7/10\\nBoss 2013 TV-PG 5.1/10\\nBottom of the World 2017 TV-MA\\nBoy and the World 2013 PG 7.6/10\\nBrain on Fire 2016 PG-13 6.6/10\\nBratz: The Movie 2007 PG 3.1/10\\nBring It On: Worldwide Showdown 2017 PG-13 4.2/10\\nBuddy Thunderstruck: The Maybe Pile 2017 TV-Y7 8.0/10\\nBudhia Singh: Born to Run 2016 TV-MA 7.7/10\\nBulbbul 2020 TV-14\\nBullet Head 2017 R 5.4/10\\nBurlesque 2010 PG-13 6.4/10\\nBy the Sea 2015 R 5.3/10\\nCabin Fever 2016 R 3.7/10\\nCairo Station 1958 TV-14 7.7/10\\nCandyman 1992 R 6.6/10\\nCan\\\\'t Complain 2007 TV-MA 0\\nCasa de mi Padre 2012 R 5.5/10\\nCatfish 2010 PG-13 7.1/10\\nCats & Dogs: The Revenge of Kitty Galore 2010 PG 4.3/10\\nCézanne et moi 2016 R 6.0/10\\nChaman Bahaar 2020 TV-MA 7.3/10\\nChange in the Air 2018 PG 5.4/10\\nChappaquiddick 2017 PG-13 6.5/10\\nCharlie St. Cloud 2010 TV-MA 6.9/10\\nCharlotte\\\\'s Web 2006 G 6.3/10\\nChashme Buddoor 2013 TV-14 5.4/10\\nCheech & Chong's Up in Smoke 1978 R 7.0/10\\nChicken Little 2005 G 5.7/10\\nChild's Play 1988 R 6.6/10\\nChippa 2019 TV-14 0\\nChoked: Paisa Bolta Hai 2020 TV-14 5.9/10\\nChristmas Wedding Planner 2017 PG 4.3/10\\nChristopher Robin 2018 PG 7.3/10\\nCIA: Comrade in America 2017 R 6.2/10\\nCirque du Freak: The Vampire's Assistant 2009 PG-13 5.8/10\\nClash of the Titans 1981 PG 6.9/10\\nClash of the Titans 2010 PG-13 0.27\\nClosed Circuit 2013 R 6.2/10\\nCloud Atlas 2012 TV-MA 7.4/10\\nCloudy with a Chance of Meatballs 2009 R 6.5/10\\nClueless 1995 PG-13 6.8/10\\nCold Feet 2019 TV-14\\nCome and Find Me 2016 R 5.7/10\\nConor McGregor: Notorious 2017 R 7.2/10\\nCook Off 2017 TV-G 6.4/10\\nCookie's Fortune 1999 PG-13 6.8/10\\nCop Car 2015 R 6.3/10\\nCouple of Days 2016 TV-14 5.1/10\\nCreep 2014 R 6.3/10\\nCrip Camp: A Disability Revolution 2020 R 7.8/10\\nCult of Chucky 2017 R 5.2/10\\nCut Bank 2014 R 6.0/10\\nDa 5 Bloods 2020 R 6.6/10\\nDallas Buyers Club 2013 R 8.0/10\\nDark Crimes 2016 R 4.9/10\\nDark Skies 2013 PG-13 6.3/10\\nDark Waters 1956 TV-14 6.8/10\\nDavid Foster: Off the Record 2019 TV-MA 7.5/10\\nDay of the Dead: Bloodline 2018 R 3.4/10\\nDe Palma 2015 R 7.4/10\\nDean 2016 PG-13 6.2/10\\nDear John 2010 PG-13 6.3/10\\nDeath at a Funeral 2010 R 0.42\\nDeath House 2017 R 3.0/10\\nDeath Race: Beyond Anarchy 2017 R 5.2/10\\nDeep 2017 PG 4.1/10\\nDefiance 2008 R 7.2/10\\nDefinitely, Maybe 2008 PG-13 7.1/10\\nDelirium 2018 R 5.7/10\\nDelta Farce 2007 PG-13 3.6/10\\nDemonic 2015 R 5.3/10\\nDen of Thieves 2018 R 7.0/10\\nDenis Leary: No Cure For Cancer 1992 R 7.5/10\\nDennis the Menace 1993 PG\\nDesperados 2020 TV-MA 5.8/10\\nDespicable Me 2010 PG 7.6/10\\nDestiny 1997 TV-14 7.2/10\\nDevil\\\\'s Gate 2017 TV-MA 0.33\\nDharam Sankat Mein 2015 TV-PG 6.3/10\""
      ]
     },
     "execution_count": 27,
     "metadata": {},
     "output_type": "execute_result"
    }
   ],
   "source": [
    "table2_raw"
   ]
  },
  {
   "cell_type": "code",
   "execution_count": 28,
   "metadata": {},
   "outputs": [],
   "source": [
    "table3=driver.find_element_by_xpath('//*[@id=\"netflixlist\"]/tbody')"
   ]
  },
  {
   "cell_type": "code",
   "execution_count": 29,
   "metadata": {},
   "outputs": [],
   "source": [
    "table3_raw=table3.text"
   ]
  },
  {
   "cell_type": "code",
   "execution_count": 30,
   "metadata": {},
   "outputs": [
    {
     "data": {
      "text/plain": [
       "\"Dilan 1990 2018 TV-14 7.3/10\\nDilan 1991 2019 TV-14 6.7/10\\nDinner for Schmucks 2010 PG-13 5.9/10\\nDisclosure 2020 TV-MA 8.1/10\\nDistrict 9 2009 R 7.9/10\\nDjango Unchained 2012 R 8.4/10\\nDo Paise Ki Dhoop Chaar Aane Ki Baarish 2009 TV-14 6.7/10\\nDolemite Is My Name 2019 R 7.3/10\\nDolphin Tale 2 2014 PG 6.4/10\\nDomino 2019 R 4.4/10\\nDon Verdean 2015 PG-13 5.4/10\\nDon't Be Afraid of the Dark 2010 R 5.6/10\\nDon't Knock Twice 2016 R 5.1/10\\nDonnie Brasco 1997 R\\nDon\\\\'t Crack Under Pressure 2017 TV-MA 0\\nDon\\\\'t Crack Under Pressure II 2016 TV-MA 0\\nDon\\\\'t Crack Under Pressure III 2017 TV-14 0\\nDoom: Annihilation 2019 R 3.6/10\\nDouble Jeopardy 1999 R 6.5/10\\nDouble World 2019 TV-14\\nDovlatov 2018 PG-13 6.4/10\\nDr. Seuss' The Cat in the Hat 2003 PG 3.9/10\\nDr. Seuss' The Grinch 2018 PG 6.3/10\\nDr. Seuss\\\\' The Lorax 2012 PG 6.4/10\\nDragonheart: Vengeance 2020 PG-13 5.1/10\\nDragons: Rescue Riders: Secrets of the Songwing 2020 TV-Y\\nDrishyam 2015 TV-PG 8.2/10\\nDrive 2011 R 7.8/10\\nDuck Duck Goose 2018 PG 5.7/10\\nDumplin' 2018 PG-13 6.6/10\\nEarth to Echo 2014 PG 5.8/10\\nEarthquake Bird 2019 R 5.9/10\\nEcho in the Canyon 2019 PG-13 7.0/10\\nEither Me Or My Auntie (Ya ana ya khalty) 2005 PG 4.8/10\\nEl límite infinito TV-G\\nElevator Baby 2019 TV-MA\\nElizabeth Harvest 2018 R 0.55\\nEnd of Watch 2012 R 7.6/10\\nEnter the Warriors Gate 2016 PG-13 5.4/10\\nEquals 2015 PG-13 6.1/10\\nEric Andre: Legalize Everything 2020 TV-MA\\nEscaping Tel Aviv (Welad el-Amm) 2009 TV-14 7.4/10\\nEternal Sunshine of the Spotless Mind 2004 R 0.93\\nEuphoria 2018 R 6.5/10\\nEurovision Song Contest: The Story of Fire Saga 2020 PG-13 7.8/10\\nEverybody Knows 2019 R 6.9/10\\nExtraction 2015 R 4.1/10\\nExtraction 2020 R\\nExtremely Wicked, Shockingly Evil and Vile 2019 R 6.6/10\\nFailure to Launch 2006 PG-13 5.6/10\\nFaith, Hope & Love 2019 PG 6.1/10\\nFan of Amoory 2018 TV-PG 5.4/10\\nFatal Affair 2020 TV-14\\nFather Soldier Son 2020 R\\nFebruary 2015 R 5.9/10\\nFeel the Beat 2020 TV-G\\nFiddler on the Roof 1971 G 8.0/10\\nFire in the Blood 2012 TV-14 7.7/10\\nFirst Kill 2017 R 5.0/10\\nFive Elements Ninjas 1982 R 7.3/10\\nFor Colored Girls 2010 R 6.1/10\\nFor Love or Money 1993 PG 6.2/10\\nForensic 2020 TV-14 7.0/10\\nFrances Ha 2012 R 7.5/10\\nFrank and Cindy 2015 R 6.1/10\\nFreaks 2018 R 6.7/10\\nFree Fire 2016 R 6.4/10\\nFrida 2002 R 7.4/10\\nFriend Request 2016 R 5.3/10\\nFrom A to B 2014 TV-MA 6.0/10\\nFroning: The Fittest Man in History 2016 PG 6.7/10\\nFrost/Nixon 2008 R 7.7/10\\nFun Mom Dinner 2017 R 5.2/10\\nFun with Dick & Jane 2005 PG-13 6.2/10\\nFunan 2018 TV-14 0.92\\nGame Over 2012 TV-14 3.8/10\\nGarfield's Pet Force 2009 G 4.1/10\\nGeneration Iron 2 2017 PG-13 6.1/10\\nGet Him to the Greek 2010 R 6.4/10\\nGet on the Bus 1996 R 6.7/10\\nGet Santa 2014 PG 6.3/10\\nGhost of the Mountains 2017 G 6.8/10\\nGirl 2018 R 7.2/10\\nGnome Alone 2018 PG 5.6/10\\nGod Bless the Broken Road 2018 PG 5.5/10\\nGod's Not Dead 2014 PG 4.7/10\\nGoldenEye 1995 PG-13 7.2/10\\nGoldie 2019 TV-MA 5.3/10\\nGoldstone 2016 R 6.5/10\\nGollu Aur Pappu 2014 TV-14 4.4/10\\nGood Time 2017 R 7.4/10\\nGoon 2011 R 6.8/10\\nGoon: Last of the Enforcers 2016 R 5.8/10\\nGoosebumps 2: Haunted Halloween 2018 PG 5.6/10\\nGrand-Daddy Day Care 2019 PG-13 4.8/10\\nGrandmother\\\\'s Farm 2013 TV-14 0\\nGrandmother\\\\'s Farm Part 2 2015 TV-14 7.4/10\\nGreater 2016 PG 7.2/10\\nGreen Room 2015 R 7.0/10\\nGridiron Gang 2006 PG-13 6.9/10\""
      ]
     },
     "execution_count": 30,
     "metadata": {},
     "output_type": "execute_result"
    }
   ],
   "source": [
    "table3_raw"
   ]
  },
  {
   "cell_type": "code",
   "execution_count": 31,
   "metadata": {},
   "outputs": [],
   "source": [
    "table4=driver.find_element_by_xpath('//*[@id=\"netflixlist\"]/tbody')"
   ]
  },
  {
   "cell_type": "code",
   "execution_count": 32,
   "metadata": {},
   "outputs": [],
   "source": [
    "table4_raw=table4.text"
   ]
  },
  {
   "cell_type": "code",
   "execution_count": 35,
   "metadata": {},
   "outputs": [
    {
     "data": {
      "text/plain": [
       "\"Gridlocked 2015 R 5.8/10\\nGroundhog Day 1993 PG 8.0/10\\nGrowing Up Wild 2016 G 7.3/10\\nHail, Caesar! 2016 PG-13 6.3/10\\nHangman 2017 R 5.2/10\\nHappy as Lazzaro 2018 PG-13 7.6/10\\nHardcore Henry 2015 R\\nHave a Good Trip: Adventures in Psychedelics 2020 TV-MA 0\\nHaywire 2011 R 5.8/10\\nHe Never Died 2015 R 6.4/10\\nHe's Just Not That Into You 2009 PG-13 6.4/10\\nHeartbreakers 2001 PG-13 6.2/10\\nHeaven Without People 2017 TV-MA 8.2/10\\nHedgehogs 2016 PG 4.1/10\\nHeist 2015 R 6.1/10\\nHeneral Luna 2015 R 7.6/10\\nHickok 2017 TV-MA 0.57\\nHigh Strung Free Dance 2018 PG 6.3/10\\nHit & Run 2012 R 6.1/10\\nHole in the Wall 2016 TV-MA\\nHolly Star 2018 PG 5.1/10\\nHoney: Rise Up and Dance 2018 PG-13 5.1/10\\nHoneytrap 2014 NR 5.7/10\\nHoodwinked Too! Hood vs. Evil 2011 PG 4.7/10\\nHop 2011 PG 5.4/10\\nHope Springs Eternal 2018 PG 4.8/10\\nHorns 2013 R 6.5/10\\nHorse Girl 2020 R 5.9/10\\nHostage 2005 PG-13 6.3/10\\nHostiles 2017 R 7.2/10\\nHot Sweet Sour (Aci Tatli Eksi) 2017 TV-PG 6.1/10\\nHouse at the End of the Street 2012 PG-13 5.6/10\\nHow Do You Know 2010 PG-13 5.4/10\\nHow the Grinch Stole Christmas 2000 PG 6.2/10\\nHow to Be a Latin Lover 2017 PG-13 5.9/10\\nHowards End 1992 PG 7.4/10\\nHugo 2011 PG 7.5/10\\nHulk Vs. 2009 PG-13 7.1/10\\nHunter in the Blue Side of Manchester 2020 TV-MA\\nHunter's Prayer 2015 R 5.5/10\\nHush 2016 R 6.6/10\\nI Am Bolt 2016 PG 7.1/10\\nI Am Not Your Negro 2016 PG-13 7.8/10\\nI Am Vengeance 2018 R 4.3/10\\nI Am Wrath 2016 R 5.4/10\\nI Don't Know How She Does It 2011 PG-13 4.9/10\\nI love you, stupid 2020 TV-MA 6.9/10\\nI Now Pronounce You Chuck and Larry 2007 PG-13 5.9/10\\nI Will Follow 2010 TV-PG 6.0/10\\nI'll See You in My Dreams 2015 PG-13 6.7/10\\nI'm in Love with a Church Girl 2013 PG 4.4/10\\nIn This Corner of the World 2016 PG-13 7.8/10\\nIndiana Jones and the Kingdom of the Crystal Skull 2008 PG-13 6.1/10\\nIndiana Jones and the Last Crusade 1989 PG-13 8.2/10\\nIndiana Jones and the Raiders of the Lost Ark 1981 PG 8.4/10\\nIndiana Jones and the Temple of Doom 1984 PG 7.6/10\\nInequality for All 2013 PG 8.0/10\\nInkaar 2013 TV-MA 6.1/10\\nInside Man 2006 PG-13 7.4/10\\nInside Man: Most Wanted 2019 R 5.6/10\\nInsidious 2010 PG-13 6.8/10\\nInto the Forest 2015 R 5.8/10\\nIntuition (La Corazonada) 2020 TV-MA 0\\nIp Man 2008 R 8.0/10\\nIp Man 2 2010 R 7.5/10\\nIp Man 3 2015 PG-13 7.1/10\\nIp Man 4: The Finale 2019 TV-MA\\nIron Man & Captain America: Heroes United 2014 PG 5.5/10\\nIt Comes at Night 2017 R 6.2/10\\nIt\\\\'s Her Day 2016 TV-MA\\nI\\\\'m No Longer Here 2019 TV-MA 7.6/10\\nJacob's Ladder 2019 R 3.4/10\\nJarhead: Law of Return 2019 R 6.2/10\\nJem and the Holograms 2015 PG 4.1/10\\nJeremiah Tower: The Last Magnificent 2016 R 6.5/10\\nJeremy Scott: The People's Designer 2015 PG-13 6.4/10\\nJerry Maguire 1996 R 7.3/10\\nJerry Seinfeld: Comedian 2002 R 6.9/10\\nJersey Boys 2014 R 6.8/10\\nJimmy Neutron: Boy Genius 2001 G 6.0/10\\nJo Koy: In His Elements 2020 TV-MA 3.9/10\\nJohn Henry 2020 R 3.4/10\\nJohnny English Reborn 2011 PG 6.3/10\\nJudy Moody and the Not Bummer Summer 2011 PG 4.2/10\\nJupiter Ascending 2015 PG-13 5.3/10\\nJurassic Park 1993 PG-13 0.91\\nJurassic Park 1993 PG-13 7.8/10\\nJurassic Park III 2001 PG-13 0.49\\nJust Friends 2005 PG-13 6.2/10\\nJust Go With It 2011 PG-13 6.4/10\\nKahlil Gibran's The Prophet 2014 PG 7.1/10\\nKalek Shanab 2019 TV-PG 6.4/10\\nKangaroo Jack 2003 PG 4.4/10\\nKappela 2020 TV-14\\nKarkar 2007 TV-14 3.3/10\\nKasanova 2019 TV-14\\nKevin Hart: Laugh at My Pain 2011 R 7.4/10\\nKevin Hart: What Now? 2016 R 5.9/10\\nKicking and Screaming 1995 R 6.8/10\\nKidnapping Mr. Heineken 2015 R 6.1/10\""
      ]
     },
     "execution_count": 35,
     "metadata": {},
     "output_type": "execute_result"
    }
   ],
   "source": [
    "table4_raw"
   ]
  },
  {
   "cell_type": "code",
   "execution_count": 33,
   "metadata": {},
   "outputs": [],
   "source": [
    "table5=driver.find_element_by_xpath('//*[@id=\"netflixlist\"]/tbody')"
   ]
  },
  {
   "cell_type": "code",
   "execution_count": 34,
   "metadata": {},
   "outputs": [],
   "source": [
    "table5_raw=table5.text"
   ]
  },
  {
   "cell_type": "code",
   "execution_count": 36,
   "metadata": {},
   "outputs": [
    {
     "data": {
      "text/plain": [
       "\"Kill the Messenger 2014 R 6.9/10\\nKiller Klowns from Outer Space 1988 PG-13 6.2/10\\nKilling Gunther 2017 R 4.7/10\\nKilling Hasselhoff 2017 R\\nKilling Them Softly 2012 R 6.2/10\\nKilo Two Bravo 2014 R 7.1/10\\nKings 2017 R 5.0/10\\nKlaus 2019 PG 8.2/10\\nKnock Down The House 2019 PG 6.9/10\\nKnockaround Guys 2001 R 6.1/10\\nKon-Tiki 2012 PG-13 7.2/10\\nKrisha 2015 R 7.2/10\\nKrystal 2017 R 5.4/10\\nKung Fu Hustle 2004 R 7.7/10\\nLA 92 2017 R 8.2/10\\nLady Bird 2017 R 7.4/10\\nLady Bloodfight 2016 R 5.6/10\\nLady Driver 2019 PG 7.4/10\\nLady-Like 2018 R 5.9/10\\nLagaan 2001 PG 8.1/10\\nLast Flight to Abuja 2012 TV-14 6.9/10\\nLatte and the Magic Waterstone 2019 TV-Y\\nLawless 2012 R 7.3/10\\nLegend 2015 R 6.9/10\\nLemony Snicket's A Series of Unfortunate Events 2004 PG 6.8/10\\nLet It Snow 2019 PG-13 5.8/10\\nLife as We Know It 2010 PG-13 6.5/10\\nLight in the Dark 2018 TV-14 0\\nLila & Eve 2015 R 5.8/10\\nLittle Singham: Legend of Dugabakka 2020 TV-Y7\\nLiving in Bondage: Breaking Free 2019 TV-MA 0\\nLockout 2012 PG-13\\nLola Igna 2019 TV-14 9.0/10\\nLost Bullet (Balle perdue) 2020 TV-MA\\nLost Girls 2020 R 6.1/10\\nLove Beats Rhymes 2016 R 5.3/10\\nLove Is Blind 2019 TV-MA 4.8/10\\nLove Jacked 2018 PG-13 5.8/10\\nLu Over the Wall 2017 PG 6.8/10\\nLupin the 3rd: The Castle of Cagliostro: Special Edition 1979 PG-13 7.7/10\\nLust, Caution 2007 NC-17 7.5/10\\nMac & Devin Go to High School 2012 R 4.4/10\\nMad Max 1979 R 0.9\\nMadagascar: Escape 2 Africa 2008 PG 6.6/10\\nMagnetic 2018 TV-14 0\\nMalang 2020 TV-MA 6.7/10\\nMalibu Rescue: The Next Wave 2020 TV-G\\nMama\\\\'s Boy 2018 TV-14 6.7/10\\nMaps to the Stars 2014 R 6.2/10\\nMarriage Story 2019 R 8.0/10\\nMartial Arts of Shaolin 1986 R 6.6/10\\nMarvel Super Hero Adventures: Frost Fight! 2015 PG 5.1/10\\nMarvel's Hulk: Where Monsters Dwell 2016 PG 5.5/10\\nMary and The Witch's Flower 2017 PG 6.8/10\\nMary Kom 2014 TV-14 6.8/10\\nMary Poppins Returns 2018 PG 6.7/10\\nMatch 2017 TV-MA 0\\nMean Dreams 2016 R 6.3/10\\nMean Streets 1973 TV-G 7.3/10\\nMelvin Goes to Dinner 2003 R 6.9/10\\nMenahi 2008 TV-14 6.4/10\\nMenashe 2017 PG 6.5/10\\nMerry Men 2: Another Mission 2019 TV-MA 0\\nMFKZ 2017 R 6.7/10\\nMiddle Men 2009 R 6.8/10\\nMiddle School: The Worst Years of My Life 2016 PG 6.1/10\\nMilea 2020 TV-14 6.1/10\\nMILF 2018 TV-MA\\nMillion Dollar Baby 2004 G 7.9/10\\nMindGamers 2017 R 3.6/10\\nMiracle 2004 PG 7.5/10\\nMirai 2018 PG 7.0/10\\nMirror Mirror 2012 PG 5.6/10\\nMiss Hokusai 2015 PG-13 6.7/10\\nMiss Julie 2014 PG-13 5.4/10\\nMolly's Game 2017 R 7.4/10\\nMoney 2016 R 5.5/10\\nMonkey Up 2016 PG 3.9/10\\nMonster Family 2017 PG 4.8/10\\nMonsters: Dark Continent 2014 R 4.3/10\\nMonty Python and the Holy Grail 1975 PG 8.2/10\\nMonty Python's Life of Brian 1979 R 8.1/10\\nMonty Python: Live at the Hollywood Bowl 1982 R 7.9/10\\nMoonlight 2016 R 7.4/10\\nMoonwalkers 2015 R 6.1/10\\nMorris from America 2016 R 6.2/10\\nMortal Kombat 1995 PG-13 5.8/10\\nMountain 2017 PG 7.2/10\\nMowgli: Legend of the Jungle 2018 PG-13 6.5/10\\nMr. Deeds 2002 PG-13 0.22\\nMR. RIGHT 2015 R 6.3/10\\nMubarakan 2017 PG-13 5.6/10\\nMucho Mucho Amor: The Legend of Walter Mercado 2020 TV-14\\nMud 2012 PG-13 7.4/10\\nMudbound 2017 R 7.4/10\\nMujeres arriba 2019 TV-14 0\\nMumbai Delhi Mumbai 2014 TV-MA 5.8/10\\nMune: Guardian of the Moon 2014 PG 7.2/10\\nMurder Mystery 2019 PG-13 6.0/10\\nMutiny of the Worker Bees 2020 TV-MA 3.8/10\""
      ]
     },
     "execution_count": 36,
     "metadata": {},
     "output_type": "execute_result"
    }
   ],
   "source": [
    "table5_raw"
   ]
  },
  {
   "cell_type": "code",
   "execution_count": 38,
   "metadata": {},
   "outputs": [],
   "source": [
    "table6=driver.find_element_by_xpath('//*[@id=\"netflixlist\"]/tbody')"
   ]
  },
  {
   "cell_type": "code",
   "execution_count": 39,
   "metadata": {},
   "outputs": [],
   "source": [
    "table6_raw=table6.text"
   ]
  },
  {
   "cell_type": "code",
   "execution_count": 40,
   "metadata": {},
   "outputs": [
    {
     "data": {
      "text/plain": [
       "\"My Entire High School Sinking Into the Sea 2016 PG-13 6.1/10\\nMy Life as a Zucchini 2016 PG-13 7.8/10\\nMy Perfect Romance 2018 PG 4.6/10\\nMy Sleeping Lover (Habibi Na\\\\'eman) 2008 TV-PG 2.9/10\\nMy Week with Marilyn 2011 R 7.0/10\\nNacho Libre 2006 PG 5.7/10\\nNational Security 2003 PG-13 0.11\\nNatural Born Pranksters 2016 R 3.6/10\\nNe Zha 2019 TV-PG 7.5/10\\nNext Avengers: Heroes of Tomorrow 2008 PG 6.3/10\\nNights in Rodanthe 2008 PG-13 0.3\\nNimbe 2019 TV-MA\\nNinja Assassin 2009 R 6.3/10\\nNobel 2016 R 8.1/10\\nNobody Knows I\\\\'m Here 2020 TV-MA 6.5/10\\nNorm of the North: Family Vacation 2020 TV-Y7 3.3/10\\nNothing to Lose 2018 PG 5.5/10\\nNothing to Lose 2 2019 PG-13 3.5/10\\nNovember Criminals 2017 PG-13 5.3/10\\nOasis: Supersonic 2016 R 7.9/10\\nObserve and Report 2009 PG 5.5/10\\nOccupation: Rainfall 2018 R 5.1/10\\nOcean's Thirteen 2007 PG-13 0.7\\nOcean's Twelve 2004 PG-13 0.55\\nOcéans 2009 G 7.8/10\\nOffering to the Storm 2020 TV-MA\\nOh My God 2012 TV-PG 8.1/10\\nOkko\\\\'s Inn 2018 PG 7.0/10\\nOlympus Has Fallen 2013 R 6.5/10\\nOmar & Salma 2 2013 TV-14 7.5/10\\nOne by Two 2014 TV-14 4.1/10\\nOne Day 2011 PG-13 7.0/10\\nOne Day We\\\\'ll Talk About Today (Nanti Kita Cerita Tentang Hari Ini) 2020 TV-G 0\\nOne Take 2020 TV-G\\nOne-Way to Tomorrow 2020 TV-MA 7.3/10\\nOnly 2019 TV-MA 4.9/10\\nOrdinary People 2016 TV-MA 7.3/10\\nOrgazmo 1997 NC-17 6.2/10\\nOtherhood 2019 R 6.0/10\\nOur House 2018 PG-13 5.3/10\\nOutlaw King 2018 R 6.9/10\\nPachamama 2019 PG 6.7/10\\nPad Man 2018 PG-13 7.9/10\\nPan's Labyrinth 2006 R 8.2/10\\nParanormal Activity 2007 R 6.3/10\\nPatriots Day 2016 R 7.4/10\\nPatton Oswalt: I Love Everything 2020 TV-MA 0\\nPek Yakında 2014 TV-MA 7.5/10\\nPenalty 2019 TV-14\\nPhantom Boy 2015 PG 6.6/10\\nPick of the Litter 2018 TV-PG 0.97\\nPirates Who Don\\\\'t Do Anything: A VeggieTales Movie 2008 G 0.41\\nPNL - Dans la légende tour 2020 TV-MA\\nPolaroid 2019 PG-13 5.1/10\\nPoltergeist 1982 R 7.1/10\\nPoster Boys 2017 PG-13 5.5/10\\nPottersville 2017 PG-13 5.3/10\\nPrem Ratan Dhan Payo 2015 TV-14 4.5/10\\nPride & Prejudice 2005 PG 0.86\\nPriest 2011 PG-13 5.7/10\\nPrison Song 2001 R\\nPrivate Life 2018 R 7.2/10\\nProject Papa 2018 TV-14 8.3/10\\nPromised Land 2012 R 6.6/10\\nPublic Enemies 2009 R 7.0/10\\nPuerto Ricans in Paris 2015 R 5.3/10\\nPup Star 2016 G 4.3/10\\nPup Star: Better 2Gether 2017 PG 4.7/10\\nPup Star: World Tour 2018 G 4.2/10\\nPuppy Star Christmas 2018 PG 4.0/10\\nPuss in Book: Trapped in an Epic Tale 2017 TV-MA 5.3/10\\nPyaar Ka Punchnama 2 2015 TV-MA 7.3/10\\nQuartet 2012 TV-14 6.5/10\\nQueen 2014 TV-MA 8.2/10\\nQuest for Camelot 1998 G 6.3/10\\nRaising Cain 1992 R 6.1/10\\nRalph Breaks the Internet: Wreck-It Ralph 2 2018 PG 7.1/10\\nRed Riding Hood 2011 PG-13 5.5/10\\nRedemption 2019 TV-MA\\nReincarnated 2012 R 6.2/10\\nRemember Me 2010 PG-13 0.27\\nRememory 2017 PG-13 6.2/10\\nRencor tatuado (Tatoo of Revenge) 2018 TV-MA 5.3/10\\nResident Evil: Afterlife 2010 R 5.8/10\\nResults 2015 R 5.4/10\\nRetablo 2017 TV-MA\\nReturn of the Prodigal Son (Awdat al ibn al dal) 1976 TV-MA 7.4/10\\nReturn to the 36th Chamber 1980 R 7.0/10\\nRevolt 2017 R 5.2/10\\nRide Like a Girl 2019 PG 6.9/10\\nRiding Faith 2020 TV-G\\nRoad Trip: Beer Pong 2009 R 4.9/10\\nRogue Warfare 2019 R 2.8/10\\nRogue Warfare: The Hunt 2019 R\\nROMA 2018 R 7.7/10\\nRomance Doll 2020 TV-MA\\nRoped 2020 PG\\nRugrats Go Wild 2003 PG 5.6/10\\nRugrats in Paris: The Movie 2000 G 6.1/10\\nSaladin (El Naser Salah el Dine) 1963 TV-14 7.8/10\""
      ]
     },
     "execution_count": 40,
     "metadata": {},
     "output_type": "execute_result"
    }
   ],
   "source": [
    "table6_raw"
   ]
  },
  {
   "cell_type": "code",
   "execution_count": 41,
   "metadata": {},
   "outputs": [],
   "source": [
    "table7=driver.find_element_by_xpath('//*[@id=\"netflixlist\"]/tbody')"
   ]
  },
  {
   "cell_type": "code",
   "execution_count": 42,
   "metadata": {},
   "outputs": [],
   "source": [
    "table7_raw=table7.text"
   ]
  },
  {
   "cell_type": "code",
   "execution_count": 43,
   "metadata": {},
   "outputs": [
    {
     "data": {
      "text/plain": [
       "\"Sam Jay: 3 In The Morning 2020 TV-MA\\nSame Kind of Different as Me 2017 PG-13 6.6/10\\nSarah's Key 2010 PG-13 7.5/10\\nSaving Mr. Banks 2013 PG-13 7.5/10\\nSaving Zoë 2019 R 5.2/10\\nScales: Mermaids Are Real 2017 PG 4.5/10\\nSchindler's List 1993 TV-MA 8.9/10\\nSchool Daze 1988 R 6.0/10\\nScorpion King 5: Book of Souls 2018 PG-13 4.6/10\\nScott Pilgrim vs. the World 2010 PG-13 7.5/10\\nScrewed 2000 PG-13 5.8/10\\nSeabiscuit 2003 PG-13 0.78\\nSearch Party 2014 R 5.6/10\\nSecret in Their Eyes 2015 PG-13 6.3/10\\nSelfless 2015 PG-13 6.5/10\\nSenna 2010 PG-13 8.5/10\\nSergio 2020 R 6.2/10\\nSeriously Single 2020 TV-MA\\nSession 9 2001 R 6.4/10\\nSet Up 2011 R 4.4/10\\nSeven (Tamil) 2019 TV-14 5.2/10\\nSeven in Heaven 2018 PG-13 5.3/10\\nShaitan 2011 TV-MA 7.2/10\\nShark Night 2011 PG-13 4.0/10\\nShe's Gotta Have It 1986 R 6.7/10\\nShepherds and Butchers 2016 R 6.8/10\\nShine Your Eyes 2020 TV-MA\\nShorts 2009 PG 4.7/10\\nShot Caller 2017 R 7.3/10\\nSi Doel the Movie 3 (Akhir Kisah Cinta Si Doel) 2020 TV-G 6.7/10\\nSierra Burgess Is a Loser 2018 PG-13 5.8/10\\nSilence of the Lambs 1991 TV-MA 8.2/10\\nSilent Hill: Revelation 2012 R 5.0/10\\nSilver Linings Playbook 2012 R 7.7/10\\nSin City 2005 R 8.0/10\\nSin City 2019 TV-14\\nSingularity 2017 PG-13 3.8/10\\nSinister 2012 R 6.8/10\\nSinister 2 2015 R 5.3/10\\nSister Code 2015 R 4.7/10\\nSkin 2019 TV-MA\\nSkiptrace 2016 PG-13 5.7/10\\nSleeping with Other People 2015 R 6.5/10\\nSleepless 2017 R 5.6/10\\nSleepless in Seattle 1993 PG 6.8/10\\nSleepover 2004 PG 5.3/10\\nSleepy Hollow 1999 R 7.3/10\\nSMOSH: The Movie 2015 PG-13 3.3/10\\nSniper: Special Ops 2016 R 3.2/10\\nSnowpiercer 2013 R 7.1/10\\nSolo 2018 TV-MA 4.9/10\\nSome Kind of Beautiful 2014 R 5.7/10\\nSomeone Great 2019 R 6.2/10\\nSong of the Sea 2014 PG 8.1/10\\nSoul Plane 2004 R 4.5/10\\nSoul Surfer 2011 PG 7.0/10\\nSpaceballs 1987 PG 7.1/10\\nSparks 2016 G\\nSpecial 26 2013 TV-PG 8.0/10\\nSpeech & Debate 2017 PG-13 5.9/10\\nSpelling the Dream 2020 TV-G 9.5/10\\nSpenser Confidential 2020 R 6.2/10\\nSPF-18 2017 PG-13 3.2/10\\nSpider-Man: Into the Spider-Verse 2018 PG 8.4/10\\nSplice 2009 R 5.7/10\\nSpookley the Square Pumpkin 2004 G 5.0/10\\nSpotlight 2015 R 0.97\\nSpy Kids: All the Time in the World 2011 PG\\nStand and Deliver 1988 PG 7.3/10\\nStardust 2007 PG-13 7.6/10\\nStarship Troopers 1997 R 7.2/10\\nStarsky & Hutch 2004 PG-13 6.1/10\\nStep Sisters 2018 PG-13 5.4/10\\nStephanie 2017 R 5.8/10\\nSteve Jobs 2015 R 7.2/10\\nStraight Up 2019 TV-MA 6.8/10\\nStrange Weather 2016 R 5.9/10\\nStray Bullet 2010 TV-MA 6.4/10\\nSucker Punch 2011 PG-13 6.0/10\\nSuffragette 2015 PG-13 6.9/10\\nSugar Rush 2019 TV-14 7.7/10\\nSunday's Illness 2017 PG-13 6.9/10\\nSuper Monsters: The New Class 2020 TV-Y\\nSwearnet: The Movie 2014 NC-17 5.9/10\\nSweet Virginia 2017 R 6.2/10\\nSweetheart 2019 PG-13 5.7/10\\nSwimming Pool 2003 R 6.7/10\\nSwiss Army Man 2016 R 7.0/10\\nSword Masters: Two Champions of Shaolin 1980 R 6.4/10\\nSwordfish 2001 R 6.5/10\\nSylvia 2018 TV-MA\\nTaare Zameen Par 2007 PG 8.4/10\\nTad the Lost Explorer and the Secret of King Midas (English Version) 2017 PG 6.2/10\\nTales From the Hood 2 2018 R 4.4/10\\nTanu Weds Manu 2011 TV-14 6.7/10\\nTarek\\\\'s Situation (Zarf Tarek) 2006 TV-14 6.9/10\\nTAU 2018 R 5.8/10\\nTaxi Driver 1976 R 8.3/10\\nTerm Life 2016 R 5.5/10\\nTerminator 3: Rise of the Machines 2003 R 6.3/10\""
      ]
     },
     "execution_count": 43,
     "metadata": {},
     "output_type": "execute_result"
    }
   ],
   "source": [
    "table7_raw"
   ]
  },
  {
   "cell_type": "code",
   "execution_count": 44,
   "metadata": {},
   "outputs": [],
   "source": [
    "table8=driver.find_element_by_xpath('//*[@id=\"netflixlist\"]/tbody')"
   ]
  },
  {
   "cell_type": "code",
   "execution_count": 45,
   "metadata": {},
   "outputs": [],
   "source": [
    "table8_raw=table8.text"
   ]
  },
  {
   "cell_type": "code",
   "execution_count": 47,
   "metadata": {},
   "outputs": [
    {
     "data": {
      "text/plain": [
       "\"Terminator Salvation 2009 PG-13 6.5/10\\nThackeray 2019 TV-14 5.2/10\\nThackeray 2019 TV-14 5.2/10\\nThe Addams Family 1991 PG-13 0.64\\nThe Adventures of Sharkboy and Lavagirl 2005 PG 3.5/10\\nThe Angry Birds Movie 2 2019 PG 6.4/10\\nThe Art of the Steal 2013 R 6.3/10\\nThe Art of War 2000 R 5.7/10\\nThe Artist 2011 PG-13 7.9/10\\nThe Assignment 2016 R 4.6/10\\nThe Autopsy of Jane Doe 2016 R 6.8/10\\nThe Bad Batch 2016 R 5.3/10\\nThe Ballad of Buster Scruggs 2018 R 7.3/10\\nThe Ballad of Lefty Brown 2017 R 6.3/10\\nThe Beach Loafer (Saye Bahr) 2004 TV-14 4.4/10\\nThe Black Prince 2017 PG-13 6.6/10\\nThe Blazing Sun (Struggle in the Valley) 1954 TV-14 7.7/10\\nThe Bling Ring 2013 R 5.6/10\\nThe Bounty Hunter 2010 PG-13 5.6/10\\nThe Boy 2016 TV-MA 5.8/10\\nThe Breadwinner 2017 PG-13 7.7/10\\nThe Brothers 2001 R 0.63\\nThe Bye Bye Man 2017 PG-13 4.2/10\\nThe Car 1977 PG 6.2/10\\nThe CEO 2016 TV-14 6.2/10\\nThe Clapper 2017 R 5.1/10\\nThe Claudia Kishi Club 2020 TV-14\\nThe Clique 2008 PG 5.1/10\\nThe Cloverfield Paradox 2018 PG-13 5.5/10\\nThe Command 2018 PG-13 6.6/10\\nThe Confirmation 2016 PG-13 6.4/10\\nThe Core 2003 PG-13 5.5/10\\nThe Croods 2013 PG\\nThe Danish Girl 2015 R 7.1/10\\nThe Darkness 2016 PG-13 4.4/10\\nThe Death of Mr. Lazarescu 2005 R 7.9/10\\nThe Death of Stalin 2017 R 7.2/10\\nThe Delivery Boy 2018 TV-14 0\\nThe Devil's Advocate 1997 R 7.3/10\\nThe Disaster Artist 2017 R 7.4/10\\nThe Duel 2016 R 5.8/10\\nThe Emigrant 1994 TV-14 6.6/10\\nThe End 2019 TV-14 5.7/10\\nThe Exception 2016 R 6.8/10\\nThe Expatriate 2012 R\\nThe F**k-It List 2019 TV-MA\\nThe Family 2013 R 6.3/10\\nThe Figurine (Araromire) 2009 TV-14 4.5/10\\nThe Firm 1993 R 6.8/10\\nThe Five Venoms 1978 R 7.1/10\\nThe Florida Project 2017 R 7.6/10\\nThe Foreigner 2017 R 7.0/10\\nThe Forest 2016 PG-13 4.8/10\\nThe Gift 2015 R 7.0/10\\nThe Girl with All the Gifts 2016 R 6.6/10\\nThe Good, the Bad and the Ugly 1966 R 8.8/10\\nThe Grandmaster 2013 PG-13 6.6/10\\nThe Green Hornet 2011 PG-13 5.8/10\\nThe Green Inferno 2013 R 5.3/10\\nThe Guest 2014 R 6.7/10\\nThe Half Of It 2020 PG-13\\nThe Hateful Eight 2015 R 7.8/10\\nThe Hateful Eight: Extended Version 2015 R\\nThe Hater 2020 TV-MA\\nThe Healer 2017 TV-PG 6.3/10\\nThe Heartbreak Kid 2007 R 5.8/10\\nThe Help 2011 PG-13 8.1/10\\nThe Highwaymen 2019 R 6.9/10\\nThe Hundred-Foot Journey 2014 PG 7.3/10\\nThe Hurricane Heist 2018 PG-13 5.1/10\\nThe Interview 2014 R 6.5/10\\nThe Irishman 2019 R 7.9/10\\nThe Iron Lady 2011 PG-13 6.4/10\\nThe Journey Is the Destination 2016 R 6.3/10\\nThe Karate Kid 1984 PG 7.2/10\\nThe Karate Kid Part II 1986 PG 6.0/10\\nThe Karate Kid Part III 1989 PG 5.2/10\\nThe Keeping Hours 2017 PG-13 6.3/10\\nThe Killing of a Sacred Deer 2017 R 7.0/10\\nThe Kindergarten Teacher 2018 R 6.7/10\\nThe King 2019 R 7.3/10\\nThe Kissing Booth 2 2020 TV-14\\nThe Lake House 2006 PG 6.8/10\\nThe Land 1970 TV-MA 8.2/10\\nThe Larva Island Movie 2020 TV-Y7\\nThe Last Airbender 2010 PG 4.1/10\\nThe Last Days of American Crime 2020 TV-MA 6.1/10\\nThe Last Days of Chez Nous 1992 R 6.6/10\\nThe Last Thing He Wanted 2020 R 4.2/10\\nThe Last Whistle 2019 PG 4.9/10\\nThe Laundromat 2019 R 6.3/10\\nThe Letter Reader 2019 TV-PG\\nThe Light of My Eyes (Nour Einy) 2010 PG-13 5.8/10\\nThe Lincoln Lawyer 2011 R 7.3/10\\nThe Little Hours 2017 R 5.8/10\\nThe Little Prince 2015 PG 7.7/10\\nThe Lobster 2015 R 7.2/10\\nThe Lodgers 2017 R 5.1/10\\nThe Long Dumb Road 2018 R 6.0/10\\nThe Lost World: Jurassic Park 1997 PG-13 0.51\""
      ]
     },
     "execution_count": 47,
     "metadata": {},
     "output_type": "execute_result"
    }
   ],
   "source": [
    "table8_raw"
   ]
  },
  {
   "cell_type": "code",
   "execution_count": 48,
   "metadata": {},
   "outputs": [],
   "source": [
    "table9=driver.find_element_by_xpath('//*[@id=\"netflixlist\"]/tbody')"
   ]
  },
  {
   "cell_type": "code",
   "execution_count": 49,
   "metadata": {},
   "outputs": [],
   "source": [
    "table9_raw=table9.text"
   ]
  },
  {
   "cell_type": "code",
   "execution_count": 56,
   "metadata": {},
   "outputs": [
    {
     "data": {
      "text/plain": [
       "str"
      ]
     },
     "execution_count": 56,
     "metadata": {},
     "output_type": "execute_result"
    }
   ],
   "source": [
    "type(table9_raw)"
   ]
  },
  {
   "cell_type": "code",
   "execution_count": 51,
   "metadata": {},
   "outputs": [],
   "source": [
    "table10=driver.find_element_by_xpath('//*[@id=\"netflixlist\"]/tbody')"
   ]
  },
  {
   "cell_type": "code",
   "execution_count": 52,
   "metadata": {},
   "outputs": [],
   "source": [
    "table10_raw=table10.text"
   ]
  },
  {
   "cell_type": "code",
   "execution_count": 54,
   "metadata": {},
   "outputs": [
    {
     "data": {
      "text/plain": [
       "str"
      ]
     },
     "execution_count": 54,
     "metadata": {},
     "output_type": "execute_result"
    }
   ],
   "source": [
    "type(table10_raw)"
   ]
  },
  {
   "cell_type": "code",
   "execution_count": 57,
   "metadata": {},
   "outputs": [],
   "source": [
    "full_table=table1_raw+table2_raw"
   ]
  },
  {
   "cell_type": "code",
   "execution_count": 58,
   "metadata": {},
   "outputs": [],
   "source": [
    "full_table2=full_table+table3_raw+table4_raw+table5_raw+table6_raw"
   ]
  },
  {
   "cell_type": "code",
   "execution_count": 59,
   "metadata": {},
   "outputs": [],
   "source": [
    "full_table3=full_table2+table7_raw+table8_raw+table9_raw+table10_raw"
   ]
  },
  {
   "cell_type": "code",
   "execution_count": 60,
   "metadata": {},
   "outputs": [
    {
     "data": {
      "text/plain": [
       "\"#AnneFrank - Parallel Stories 2019 TV-14\\n#FriendButMarried 2018 TV-G 7.1/10\\n#FriendButMarried 2 2020 TV-G\\n122 2019 TV-MA 7.1/10\\n13 Sins 2014 R 6.3/10\\n14 Blades 2010 R 6.3/10\\n18 Presents 2020 TV-MA 0\\n1898: Our Last Men in the Philippines 2016 R 6.5/10\\nA 2nd Chance 2011 PG 4.7/10\\nA Bad Moms Christmas 2017 R 5.6/10\\nA Bridge Too Far 1977 PG 7.4/10\\nA Champion Heart 2018 G 5.2/10\\nA Cinderella Story: Christmas Wish 2019 PG 5.2/10\\nA Dangerous Woman 1993 R 5.8/10\\nA Family Man 2016 R 6.5/10\\nA Ghost Story 2017 R 6.8/10\\nA Haunted House 2013 R 5.0/10\\nA Kid from Coney Island 2019 TV-MA 8.1/10\\nA Knight\\\\'s Tale 2001 PG-13 0.58\\nA Little Chaos 2014 R 6.5/10\\nA Serious Man 2009 R 7.0/10\\nA Shaun the Sheep Movie: Farmageddon 2020 G 6.9/10\\nA Single Man 2009 R 7.6/10\\nA Tale of Love and Darkness 2015 PG-13 6.0/10\\nA Thousand Words 2012 PG-13 5.9/10\\nA Toot-Toot Cory Carson Summer Camp 2020 TV-Y\\nA Walk to Remember 2002 PG 7.4/10\\nA Whisker Away 2020 TV-PG\\nA Witches' Ball 2017 PG 5.1/10\\nA.X.L. 2018 PG 5.3/10\\nAbout Time 2013 R 7.8/10\\nAce Ventura: Pet Detective 1994 PG-13 6.9/10\\nAct of Valour 2012 R 6.5/10\\nAction Replayy 2010 TV-PG 4.2/10\\nActs of Vengeance 2017 R 5.7/10\\nActs of Violence 2018 R 0\\nAddicted to Life 2014 TV-14 7.6/10\\nAdú 2020 TV-MA 6.6/10\\nAfter 2019 PG-13 5.4/10\\nAftermath 2017 R 5.6/10\\nAir Force One 1997 R 6.5/10\\nAirplane! 1980 PG 7.7/10\\nAlexandria ... Why? 1979 TV-MA 7.2/10\\nAlexandria: Again and Forever (Iskanderija, kaman oue kaman) 1989 TV-MA 6.4/10\\nAli & Alia 2019 M 7.1/10\\nAli Baba ve 7 Cüceler 2015 TV-MA 5.8/10\\nAliens Ate My Homework 2018 PG 4.6/10\\nAll About Nina 2018 R 6.0/10\\nAll Day and a Night 2020 R 6.0/10\\nAll Dogs Go to Heaven 1989 G 6.8/10\\nAll the Devil's Men 2018 R 5.1/10\\nAllI Wish 2017 R 5.1/10\\nAlmost Love 2019 TV-MA 0.67\\nAlone in Berlin 2016 R 6.5/10\\nAlpha Dog 2006 R 6.9/10\\nAlways Be My Maybe 2019 PG-13 6.8/10\\nAmerican Assassin 2017 R 6.2/10\\nAmerican Gospel: Christ Alone 2018 TV-PG 8.8/10\\nAmerican Honey 2016 R 7.0/10\\nAn Education 2009 PG-13 0.94\\nAn Egyptian Story (Hadduta misrija) 1982 TV-MA 7.2/10\\nAn Evening with Beverly Luff Linn 2018 R 5.7/10\\nAnchor Baby 2010 TV-MA 7.1/10\\nAndaz Apna Apna 1994 TV-14 8.2/10\\nAnelka: Misunderstood 2020 TV-14\\nAngel Has Fallen 2019 R 6.4/10\\nAnimal Crackers 2017 TV-Y7\\nAnna Karenina 2012 R 6.6/10\\nApollo 18 2011 PG-13 5.2/10\\nApril and the Extraordinary World 2015 PG 7.3/10\\nArctic Dogs 2019 PG 4.5/10\\nArthur 2011 PG-13 5.7/10\\nAs Above, So Below 2014 R 6.2/10\\nAsoka 2001 R 6.5/10\\nAsura Guru 2018 TV-14\\nAthlete A 2020 PG-13 7.3/10\\nAxone 2019 TV-MA 0\\nBabel 2006 R 7.4/10\\nBaby Mama 2008 PG-13 6.0/10\\nBackdraft 2 2019 R 4.8/10\\nBad Boys 1995 R 6.9/10\\nBad Boys II 2003 R 6.6/10\\nBad News Bears 2005 PG-13 5.8/10\\nBallerina 2016 PG 6.8/10\\nBanana Split 2018 TV-MA 0.88\\nBandits 2001 PG-13 6.5/10\\nBathtubs Over Broadway 2018 PG-13 7.5/10\\nBatman: Mask of the Phantasm 1993 PG 7.8/10\\nBattle: Los Angeles 2011 PG-13 5.7/10\\nBecoming 2020 PG\\nBee Movie 2007 PG 6.1/10\\nBefore I Fall 2017 PG-13 6.4/10\\nBefore I Wake 2016 PG-13 6.2/10\\nBefore the Summer Crowds 2015 TV-14 5.3/10\\nBeing Elmo: A Puppeteer's Journey 2011 PG 7.6/10\\nBeing John Malkovich 1999 R 0.93\\nBen Platt Live from Radio City Music Hall 2020 TV-PG 0\\nBenchwarmers 2: Breaking Balls 2019 PG-13\\nBennett's War 2019 PG-13 5.3/10\\nBerlin Syndrome 2017 R 6.3/10Berlin, I Love You 2019 R 4.6/10\\nBethany Hamilton: Unstoppable 2019 PG 7.3/10\\nBetween Worlds 2018 R 4.4/10\\nBeyond Skyline 2017 R 5.3/10\\nBeyond the Mat 1999 R 7.6/10\\nBig Kill 2018 R 5.2/10\\nBig Miracle 2012 PG 6.5/10\\nBig Stone Gap 2014 PG-13 5.6/10\\nBird Box 2018 R 6.6/10\\nBittoo Boss 2012 TV-14 4.1/10\\nBlack Sea 2015 R 6.4/10\\nBlackfish 2013 PG-13 8.1/10\\nBleed for This 2016 R 6.8/10\\nBlood Father 2016 R 6.4/10\\nBlood Money 2012 TV-14 5.0/10\\nBlood Money 2017 R 4.4/10\\nBloodsport 1988 R 6.8/10\\nBlue Is the Warmest Color 2013 NC-17 7.7/10\\nBlue Ruin 2013 R 7.1/10\\nBombay Talkies 2013 TV-MA 6.7/10\\nBorn Racer 2018 R 5.7/10\\nBoss 2013 TV-PG 5.1/10\\nBottom of the World 2017 TV-MA\\nBoy and the World 2013 PG 7.6/10\\nBrain on Fire 2016 PG-13 6.6/10\\nBratz: The Movie 2007 PG 3.1/10\\nBring It On: Worldwide Showdown 2017 PG-13 4.2/10\\nBuddy Thunderstruck: The Maybe Pile 2017 TV-Y7 8.0/10\\nBudhia Singh: Born to Run 2016 TV-MA 7.7/10\\nBulbbul 2020 TV-14\\nBullet Head 2017 R 5.4/10\\nBurlesque 2010 PG-13 6.4/10\\nBy the Sea 2015 R 5.3/10\\nCabin Fever 2016 R 3.7/10\\nCairo Station 1958 TV-14 7.7/10\\nCandyman 1992 R 6.6/10\\nCan\\\\'t Complain 2007 TV-MA 0\\nCasa de mi Padre 2012 R 5.5/10\\nCatfish 2010 PG-13 7.1/10\\nCats & Dogs: The Revenge of Kitty Galore 2010 PG 4.3/10\\nCézanne et moi 2016 R 6.0/10\\nChaman Bahaar 2020 TV-MA 7.3/10\\nChange in the Air 2018 PG 5.4/10\\nChappaquiddick 2017 PG-13 6.5/10\\nCharlie St. Cloud 2010 TV-MA 6.9/10\\nCharlotte\\\\'s Web 2006 G 6.3/10\\nChashme Buddoor 2013 TV-14 5.4/10\\nCheech & Chong's Up in Smoke 1978 R 7.0/10\\nChicken Little 2005 G 5.7/10\\nChild's Play 1988 R 6.6/10\\nChippa 2019 TV-14 0\\nChoked: Paisa Bolta Hai 2020 TV-14 5.9/10\\nChristmas Wedding Planner 2017 PG 4.3/10\\nChristopher Robin 2018 PG 7.3/10\\nCIA: Comrade in America 2017 R 6.2/10\\nCirque du Freak: The Vampire's Assistant 2009 PG-13 5.8/10\\nClash of the Titans 1981 PG 6.9/10\\nClash of the Titans 2010 PG-13 0.27\\nClosed Circuit 2013 R 6.2/10\\nCloud Atlas 2012 TV-MA 7.4/10\\nCloudy with a Chance of Meatballs 2009 R 6.5/10\\nClueless 1995 PG-13 6.8/10\\nCold Feet 2019 TV-14\\nCome and Find Me 2016 R 5.7/10\\nConor McGregor: Notorious 2017 R 7.2/10\\nCook Off 2017 TV-G 6.4/10\\nCookie's Fortune 1999 PG-13 6.8/10\\nCop Car 2015 R 6.3/10\\nCouple of Days 2016 TV-14 5.1/10\\nCreep 2014 R 6.3/10\\nCrip Camp: A Disability Revolution 2020 R 7.8/10\\nCult of Chucky 2017 R 5.2/10\\nCut Bank 2014 R 6.0/10\\nDa 5 Bloods 2020 R 6.6/10\\nDallas Buyers Club 2013 R 8.0/10\\nDark Crimes 2016 R 4.9/10\\nDark Skies 2013 PG-13 6.3/10\\nDark Waters 1956 TV-14 6.8/10\\nDavid Foster: Off the Record 2019 TV-MA 7.5/10\\nDay of the Dead: Bloodline 2018 R 3.4/10\\nDe Palma 2015 R 7.4/10\\nDean 2016 PG-13 6.2/10\\nDear John 2010 PG-13 6.3/10\\nDeath at a Funeral 2010 R 0.42\\nDeath House 2017 R 3.0/10\\nDeath Race: Beyond Anarchy 2017 R 5.2/10\\nDeep 2017 PG 4.1/10\\nDefiance 2008 R 7.2/10\\nDefinitely, Maybe 2008 PG-13 7.1/10\\nDelirium 2018 R 5.7/10\\nDelta Farce 2007 PG-13 3.6/10\\nDemonic 2015 R 5.3/10\\nDen of Thieves 2018 R 7.0/10\\nDenis Leary: No Cure For Cancer 1992 R 7.5/10\\nDennis the Menace 1993 PG\\nDesperados 2020 TV-MA 5.8/10\\nDespicable Me 2010 PG 7.6/10\\nDestiny 1997 TV-14 7.2/10\\nDevil\\\\'s Gate 2017 TV-MA 0.33\\nDharam Sankat Mein 2015 TV-PG 6.3/10Dilan 1990 2018 TV-14 7.3/10\\nDilan 1991 2019 TV-14 6.7/10\\nDinner for Schmucks 2010 PG-13 5.9/10\\nDisclosure 2020 TV-MA 8.1/10\\nDistrict 9 2009 R 7.9/10\\nDjango Unchained 2012 R 8.4/10\\nDo Paise Ki Dhoop Chaar Aane Ki Baarish 2009 TV-14 6.7/10\\nDolemite Is My Name 2019 R 7.3/10\\nDolphin Tale 2 2014 PG 6.4/10\\nDomino 2019 R 4.4/10\\nDon Verdean 2015 PG-13 5.4/10\\nDon't Be Afraid of the Dark 2010 R 5.6/10\\nDon't Knock Twice 2016 R 5.1/10\\nDonnie Brasco 1997 R\\nDon\\\\'t Crack Under Pressure 2017 TV-MA 0\\nDon\\\\'t Crack Under Pressure II 2016 TV-MA 0\\nDon\\\\'t Crack Under Pressure III 2017 TV-14 0\\nDoom: Annihilation 2019 R 3.6/10\\nDouble Jeopardy 1999 R 6.5/10\\nDouble World 2019 TV-14\\nDovlatov 2018 PG-13 6.4/10\\nDr. Seuss' The Cat in the Hat 2003 PG 3.9/10\\nDr. Seuss' The Grinch 2018 PG 6.3/10\\nDr. Seuss\\\\' The Lorax 2012 PG 6.4/10\\nDragonheart: Vengeance 2020 PG-13 5.1/10\\nDragons: Rescue Riders: Secrets of the Songwing 2020 TV-Y\\nDrishyam 2015 TV-PG 8.2/10\\nDrive 2011 R 7.8/10\\nDuck Duck Goose 2018 PG 5.7/10\\nDumplin' 2018 PG-13 6.6/10\\nEarth to Echo 2014 PG 5.8/10\\nEarthquake Bird 2019 R 5.9/10\\nEcho in the Canyon 2019 PG-13 7.0/10\\nEither Me Or My Auntie (Ya ana ya khalty) 2005 PG 4.8/10\\nEl límite infinito TV-G\\nElevator Baby 2019 TV-MA\\nElizabeth Harvest 2018 R 0.55\\nEnd of Watch 2012 R 7.6/10\\nEnter the Warriors Gate 2016 PG-13 5.4/10\\nEquals 2015 PG-13 6.1/10\\nEric Andre: Legalize Everything 2020 TV-MA\\nEscaping Tel Aviv (Welad el-Amm) 2009 TV-14 7.4/10\\nEternal Sunshine of the Spotless Mind 2004 R 0.93\\nEuphoria 2018 R 6.5/10\\nEurovision Song Contest: The Story of Fire Saga 2020 PG-13 7.8/10\\nEverybody Knows 2019 R 6.9/10\\nExtraction 2015 R 4.1/10\\nExtraction 2020 R\\nExtremely Wicked, Shockingly Evil and Vile 2019 R 6.6/10\\nFailure to Launch 2006 PG-13 5.6/10\\nFaith, Hope & Love 2019 PG 6.1/10\\nFan of Amoory 2018 TV-PG 5.4/10\\nFatal Affair 2020 TV-14\\nFather Soldier Son 2020 R\\nFebruary 2015 R 5.9/10\\nFeel the Beat 2020 TV-G\\nFiddler on the Roof 1971 G 8.0/10\\nFire in the Blood 2012 TV-14 7.7/10\\nFirst Kill 2017 R 5.0/10\\nFive Elements Ninjas 1982 R 7.3/10\\nFor Colored Girls 2010 R 6.1/10\\nFor Love or Money 1993 PG 6.2/10\\nForensic 2020 TV-14 7.0/10\\nFrances Ha 2012 R 7.5/10\\nFrank and Cindy 2015 R 6.1/10\\nFreaks 2018 R 6.7/10\\nFree Fire 2016 R 6.4/10\\nFrida 2002 R 7.4/10\\nFriend Request 2016 R 5.3/10\\nFrom A to B 2014 TV-MA 6.0/10\\nFroning: The Fittest Man in History 2016 PG 6.7/10\\nFrost/Nixon 2008 R 7.7/10\\nFun Mom Dinner 2017 R 5.2/10\\nFun with Dick & Jane 2005 PG-13 6.2/10\\nFunan 2018 TV-14 0.92\\nGame Over 2012 TV-14 3.8/10\\nGarfield's Pet Force 2009 G 4.1/10\\nGeneration Iron 2 2017 PG-13 6.1/10\\nGet Him to the Greek 2010 R 6.4/10\\nGet on the Bus 1996 R 6.7/10\\nGet Santa 2014 PG 6.3/10\\nGhost of the Mountains 2017 G 6.8/10\\nGirl 2018 R 7.2/10\\nGnome Alone 2018 PG 5.6/10\\nGod Bless the Broken Road 2018 PG 5.5/10\\nGod's Not Dead 2014 PG 4.7/10\\nGoldenEye 1995 PG-13 7.2/10\\nGoldie 2019 TV-MA 5.3/10\\nGoldstone 2016 R 6.5/10\\nGollu Aur Pappu 2014 TV-14 4.4/10\\nGood Time 2017 R 7.4/10\\nGoon 2011 R 6.8/10\\nGoon: Last of the Enforcers 2016 R 5.8/10\\nGoosebumps 2: Haunted Halloween 2018 PG 5.6/10\\nGrand-Daddy Day Care 2019 PG-13 4.8/10\\nGrandmother\\\\'s Farm 2013 TV-14 0\\nGrandmother\\\\'s Farm Part 2 2015 TV-14 7.4/10\\nGreater 2016 PG 7.2/10\\nGreen Room 2015 R 7.0/10\\nGridiron Gang 2006 PG-13 6.9/10Gridlocked 2015 R 5.8/10\\nGroundhog Day 1993 PG 8.0/10\\nGrowing Up Wild 2016 G 7.3/10\\nHail, Caesar! 2016 PG-13 6.3/10\\nHangman 2017 R 5.2/10\\nHappy as Lazzaro 2018 PG-13 7.6/10\\nHardcore Henry 2015 R\\nHave a Good Trip: Adventures in Psychedelics 2020 TV-MA 0\\nHaywire 2011 R 5.8/10\\nHe Never Died 2015 R 6.4/10\\nHe's Just Not That Into You 2009 PG-13 6.4/10\\nHeartbreakers 2001 PG-13 6.2/10\\nHeaven Without People 2017 TV-MA 8.2/10\\nHedgehogs 2016 PG 4.1/10\\nHeist 2015 R 6.1/10\\nHeneral Luna 2015 R 7.6/10\\nHickok 2017 TV-MA 0.57\\nHigh Strung Free Dance 2018 PG 6.3/10\\nHit & Run 2012 R 6.1/10\\nHole in the Wall 2016 TV-MA\\nHolly Star 2018 PG 5.1/10\\nHoney: Rise Up and Dance 2018 PG-13 5.1/10\\nHoneytrap 2014 NR 5.7/10\\nHoodwinked Too! Hood vs. Evil 2011 PG 4.7/10\\nHop 2011 PG 5.4/10\\nHope Springs Eternal 2018 PG 4.8/10\\nHorns 2013 R 6.5/10\\nHorse Girl 2020 R 5.9/10\\nHostage 2005 PG-13 6.3/10\\nHostiles 2017 R 7.2/10\\nHot Sweet Sour (Aci Tatli Eksi) 2017 TV-PG 6.1/10\\nHouse at the End of the Street 2012 PG-13 5.6/10\\nHow Do You Know 2010 PG-13 5.4/10\\nHow the Grinch Stole Christmas 2000 PG 6.2/10\\nHow to Be a Latin Lover 2017 PG-13 5.9/10\\nHowards End 1992 PG 7.4/10\\nHugo 2011 PG 7.5/10\\nHulk Vs. 2009 PG-13 7.1/10\\nHunter in the Blue Side of Manchester 2020 TV-MA\\nHunter's Prayer 2015 R 5.5/10\\nHush 2016 R 6.6/10\\nI Am Bolt 2016 PG 7.1/10\\nI Am Not Your Negro 2016 PG-13 7.8/10\\nI Am Vengeance 2018 R 4.3/10\\nI Am Wrath 2016 R 5.4/10\\nI Don't Know How She Does It 2011 PG-13 4.9/10\\nI love you, stupid 2020 TV-MA 6.9/10\\nI Now Pronounce You Chuck and Larry 2007 PG-13 5.9/10\\nI Will Follow 2010 TV-PG 6.0/10\\nI'll See You in My Dreams 2015 PG-13 6.7/10\\nI'm in Love with a Church Girl 2013 PG 4.4/10\\nIn This Corner of the World 2016 PG-13 7.8/10\\nIndiana Jones and the Kingdom of the Crystal Skull 2008 PG-13 6.1/10\\nIndiana Jones and the Last Crusade 1989 PG-13 8.2/10\\nIndiana Jones and the Raiders of the Lost Ark 1981 PG 8.4/10\\nIndiana Jones and the Temple of Doom 1984 PG 7.6/10\\nInequality for All 2013 PG 8.0/10\\nInkaar 2013 TV-MA 6.1/10\\nInside Man 2006 PG-13 7.4/10\\nInside Man: Most Wanted 2019 R 5.6/10\\nInsidious 2010 PG-13 6.8/10\\nInto the Forest 2015 R 5.8/10\\nIntuition (La Corazonada) 2020 TV-MA 0\\nIp Man 2008 R 8.0/10\\nIp Man 2 2010 R 7.5/10\\nIp Man 3 2015 PG-13 7.1/10\\nIp Man 4: The Finale 2019 TV-MA\\nIron Man & Captain America: Heroes United 2014 PG 5.5/10\\nIt Comes at Night 2017 R 6.2/10\\nIt\\\\'s Her Day 2016 TV-MA\\nI\\\\'m No Longer Here 2019 TV-MA 7.6/10\\nJacob's Ladder 2019 R 3.4/10\\nJarhead: Law of Return 2019 R 6.2/10\\nJem and the Holograms 2015 PG 4.1/10\\nJeremiah Tower: The Last Magnificent 2016 R 6.5/10\\nJeremy Scott: The People's Designer 2015 PG-13 6.4/10\\nJerry Maguire 1996 R 7.3/10\\nJerry Seinfeld: Comedian 2002 R 6.9/10\\nJersey Boys 2014 R 6.8/10\\nJimmy Neutron: Boy Genius 2001 G 6.0/10\\nJo Koy: In His Elements 2020 TV-MA 3.9/10\\nJohn Henry 2020 R 3.4/10\\nJohnny English Reborn 2011 PG 6.3/10\\nJudy Moody and the Not Bummer Summer 2011 PG 4.2/10\\nJupiter Ascending 2015 PG-13 5.3/10\\nJurassic Park 1993 PG-13 0.91\\nJurassic Park 1993 PG-13 7.8/10\\nJurassic Park III 2001 PG-13 0.49\\nJust Friends 2005 PG-13 6.2/10\\nJust Go With It 2011 PG-13 6.4/10\\nKahlil Gibran's The Prophet 2014 PG 7.1/10\\nKalek Shanab 2019 TV-PG 6.4/10\\nKangaroo Jack 2003 PG 4.4/10\\nKappela 2020 TV-14\\nKarkar 2007 TV-14 3.3/10\\nKasanova 2019 TV-14\\nKevin Hart: Laugh at My Pain 2011 R 7.4/10\\nKevin Hart: What Now? 2016 R 5.9/10\\nKicking and Screaming 1995 R 6.8/10\\nKidnapping Mr. Heineken 2015 R 6.1/10Kill the Messenger 2014 R 6.9/10\\nKiller Klowns from Outer Space 1988 PG-13 6.2/10\\nKilling Gunther 2017 R 4.7/10\\nKilling Hasselhoff 2017 R\\nKilling Them Softly 2012 R 6.2/10\\nKilo Two Bravo 2014 R 7.1/10\\nKings 2017 R 5.0/10\\nKlaus 2019 PG 8.2/10\\nKnock Down The House 2019 PG 6.9/10\\nKnockaround Guys 2001 R 6.1/10\\nKon-Tiki 2012 PG-13 7.2/10\\nKrisha 2015 R 7.2/10\\nKrystal 2017 R 5.4/10\\nKung Fu Hustle 2004 R 7.7/10\\nLA 92 2017 R 8.2/10\\nLady Bird 2017 R 7.4/10\\nLady Bloodfight 2016 R 5.6/10\\nLady Driver 2019 PG 7.4/10\\nLady-Like 2018 R 5.9/10\\nLagaan 2001 PG 8.1/10\\nLast Flight to Abuja 2012 TV-14 6.9/10\\nLatte and the Magic Waterstone 2019 TV-Y\\nLawless 2012 R 7.3/10\\nLegend 2015 R 6.9/10\\nLemony Snicket's A Series of Unfortunate Events 2004 PG 6.8/10\\nLet It Snow 2019 PG-13 5.8/10\\nLife as We Know It 2010 PG-13 6.5/10\\nLight in the Dark 2018 TV-14 0\\nLila & Eve 2015 R 5.8/10\\nLittle Singham: Legend of Dugabakka 2020 TV-Y7\\nLiving in Bondage: Breaking Free 2019 TV-MA 0\\nLockout 2012 PG-13\\nLola Igna 2019 TV-14 9.0/10\\nLost Bullet (Balle perdue) 2020 TV-MA\\nLost Girls 2020 R 6.1/10\\nLove Beats Rhymes 2016 R 5.3/10\\nLove Is Blind 2019 TV-MA 4.8/10\\nLove Jacked 2018 PG-13 5.8/10\\nLu Over the Wall 2017 PG 6.8/10\\nLupin the 3rd: The Castle of Cagliostro: Special Edition 1979 PG-13 7.7/10\\nLust, Caution 2007 NC-17 7.5/10\\nMac & Devin Go to High School 2012 R 4.4/10\\nMad Max 1979 R 0.9\\nMadagascar: Escape 2 Africa 2008 PG 6.6/10\\nMagnetic 2018 TV-14 0\\nMalang 2020 TV-MA 6.7/10\\nMalibu Rescue: The Next Wave 2020 TV-G\\nMama\\\\'s Boy 2018 TV-14 6.7/10\\nMaps to the Stars 2014 R 6.2/10\\nMarriage Story 2019 R 8.0/10\\nMartial Arts of Shaolin 1986 R 6.6/10\\nMarvel Super Hero Adventures: Frost Fight! 2015 PG 5.1/10\\nMarvel's Hulk: Where Monsters Dwell 2016 PG 5.5/10\\nMary and The Witch's Flower 2017 PG 6.8/10\\nMary Kom 2014 TV-14 6.8/10\\nMary Poppins Returns 2018 PG 6.7/10\\nMatch 2017 TV-MA 0\\nMean Dreams 2016 R 6.3/10\\nMean Streets 1973 TV-G 7.3/10\\nMelvin Goes to Dinner 2003 R 6.9/10\\nMenahi 2008 TV-14 6.4/10\\nMenashe 2017 PG 6.5/10\\nMerry Men 2: Another Mission 2019 TV-MA 0\\nMFKZ 2017 R 6.7/10\\nMiddle Men 2009 R 6.8/10\\nMiddle School: The Worst Years of My Life 2016 PG 6.1/10\\nMilea 2020 TV-14 6.1/10\\nMILF 2018 TV-MA\\nMillion Dollar Baby 2004 G 7.9/10\\nMindGamers 2017 R 3.6/10\\nMiracle 2004 PG 7.5/10\\nMirai 2018 PG 7.0/10\\nMirror Mirror 2012 PG 5.6/10\\nMiss Hokusai 2015 PG-13 6.7/10\\nMiss Julie 2014 PG-13 5.4/10\\nMolly's Game 2017 R 7.4/10\\nMoney 2016 R 5.5/10\\nMonkey Up 2016 PG 3.9/10\\nMonster Family 2017 PG 4.8/10\\nMonsters: Dark Continent 2014 R 4.3/10\\nMonty Python and the Holy Grail 1975 PG 8.2/10\\nMonty Python's Life of Brian 1979 R 8.1/10\\nMonty Python: Live at the Hollywood Bowl 1982 R 7.9/10\\nMoonlight 2016 R 7.4/10\\nMoonwalkers 2015 R 6.1/10\\nMorris from America 2016 R 6.2/10\\nMortal Kombat 1995 PG-13 5.8/10\\nMountain 2017 PG 7.2/10\\nMowgli: Legend of the Jungle 2018 PG-13 6.5/10\\nMr. Deeds 2002 PG-13 0.22\\nMR. RIGHT 2015 R 6.3/10\\nMubarakan 2017 PG-13 5.6/10\\nMucho Mucho Amor: The Legend of Walter Mercado 2020 TV-14\\nMud 2012 PG-13 7.4/10\\nMudbound 2017 R 7.4/10\\nMujeres arriba 2019 TV-14 0\\nMumbai Delhi Mumbai 2014 TV-MA 5.8/10\\nMune: Guardian of the Moon 2014 PG 7.2/10\\nMurder Mystery 2019 PG-13 6.0/10\\nMutiny of the Worker Bees 2020 TV-MA 3.8/10My Entire High School Sinking Into the Sea 2016 PG-13 6.1/10\\nMy Life as a Zucchini 2016 PG-13 7.8/10\\nMy Perfect Romance 2018 PG 4.6/10\\nMy Sleeping Lover (Habibi Na\\\\'eman) 2008 TV-PG 2.9/10\\nMy Week with Marilyn 2011 R 7.0/10\\nNacho Libre 2006 PG 5.7/10\\nNational Security 2003 PG-13 0.11\\nNatural Born Pranksters 2016 R 3.6/10\\nNe Zha 2019 TV-PG 7.5/10\\nNext Avengers: Heroes of Tomorrow 2008 PG 6.3/10\\nNights in Rodanthe 2008 PG-13 0.3\\nNimbe 2019 TV-MA\\nNinja Assassin 2009 R 6.3/10\\nNobel 2016 R 8.1/10\\nNobody Knows I\\\\'m Here 2020 TV-MA 6.5/10\\nNorm of the North: Family Vacation 2020 TV-Y7 3.3/10\\nNothing to Lose 2018 PG 5.5/10\\nNothing to Lose 2 2019 PG-13 3.5/10\\nNovember Criminals 2017 PG-13 5.3/10\\nOasis: Supersonic 2016 R 7.9/10\\nObserve and Report 2009 PG 5.5/10\\nOccupation: Rainfall 2018 R 5.1/10\\nOcean's Thirteen 2007 PG-13 0.7\\nOcean's Twelve 2004 PG-13 0.55\\nOcéans 2009 G 7.8/10\\nOffering to the Storm 2020 TV-MA\\nOh My God 2012 TV-PG 8.1/10\\nOkko\\\\'s Inn 2018 PG 7.0/10\\nOlympus Has Fallen 2013 R 6.5/10\\nOmar & Salma 2 2013 TV-14 7.5/10\\nOne by Two 2014 TV-14 4.1/10\\nOne Day 2011 PG-13 7.0/10\\nOne Day We\\\\'ll Talk About Today (Nanti Kita Cerita Tentang Hari Ini) 2020 TV-G 0\\nOne Take 2020 TV-G\\nOne-Way to Tomorrow 2020 TV-MA 7.3/10\\nOnly 2019 TV-MA 4.9/10\\nOrdinary People 2016 TV-MA 7.3/10\\nOrgazmo 1997 NC-17 6.2/10\\nOtherhood 2019 R 6.0/10\\nOur House 2018 PG-13 5.3/10\\nOutlaw King 2018 R 6.9/10\\nPachamama 2019 PG 6.7/10\\nPad Man 2018 PG-13 7.9/10\\nPan's Labyrinth 2006 R 8.2/10\\nParanormal Activity 2007 R 6.3/10\\nPatriots Day 2016 R 7.4/10\\nPatton Oswalt: I Love Everything 2020 TV-MA 0\\nPek Yakında 2014 TV-MA 7.5/10\\nPenalty 2019 TV-14\\nPhantom Boy 2015 PG 6.6/10\\nPick of the Litter 2018 TV-PG 0.97\\nPirates Who Don\\\\'t Do Anything: A VeggieTales Movie 2008 G 0.41\\nPNL - Dans la légende tour 2020 TV-MA\\nPolaroid 2019 PG-13 5.1/10\\nPoltergeist 1982 R 7.1/10\\nPoster Boys 2017 PG-13 5.5/10\\nPottersville 2017 PG-13 5.3/10\\nPrem Ratan Dhan Payo 2015 TV-14 4.5/10\\nPride & Prejudice 2005 PG 0.86\\nPriest 2011 PG-13 5.7/10\\nPrison Song 2001 R\\nPrivate Life 2018 R 7.2/10\\nProject Papa 2018 TV-14 8.3/10\\nPromised Land 2012 R 6.6/10\\nPublic Enemies 2009 R 7.0/10\\nPuerto Ricans in Paris 2015 R 5.3/10\\nPup Star 2016 G 4.3/10\\nPup Star: Better 2Gether 2017 PG 4.7/10\\nPup Star: World Tour 2018 G 4.2/10\\nPuppy Star Christmas 2018 PG 4.0/10\\nPuss in Book: Trapped in an Epic Tale 2017 TV-MA 5.3/10\\nPyaar Ka Punchnama 2 2015 TV-MA 7.3/10\\nQuartet 2012 TV-14 6.5/10\\nQueen 2014 TV-MA 8.2/10\\nQuest for Camelot 1998 G 6.3/10\\nRaising Cain 1992 R 6.1/10\\nRalph Breaks the Internet: Wreck-It Ralph 2 2018 PG 7.1/10\\nRed Riding Hood 2011 PG-13 5.5/10\\nRedemption 2019 TV-MA\\nReincarnated 2012 R 6.2/10\\nRemember Me 2010 PG-13 0.27\\nRememory 2017 PG-13 6.2/10\\nRencor tatuado (Tatoo of Revenge) 2018 TV-MA 5.3/10\\nResident Evil: Afterlife 2010 R 5.8/10\\nResults 2015 R 5.4/10\\nRetablo 2017 TV-MA\\nReturn of the Prodigal Son (Awdat al ibn al dal) 1976 TV-MA 7.4/10\\nReturn to the 36th Chamber 1980 R 7.0/10\\nRevolt 2017 R 5.2/10\\nRide Like a Girl 2019 PG 6.9/10\\nRiding Faith 2020 TV-G\\nRoad Trip: Beer Pong 2009 R 4.9/10\\nRogue Warfare 2019 R 2.8/10\\nRogue Warfare: The Hunt 2019 R\\nROMA 2018 R 7.7/10\\nRomance Doll 2020 TV-MA\\nRoped 2020 PG\\nRugrats Go Wild 2003 PG 5.6/10\\nRugrats in Paris: The Movie 2000 G 6.1/10\\nSaladin (El Naser Salah el Dine) 1963 TV-14 7.8/10Sam Jay: 3 In The Morning 2020 TV-MA\\nSame Kind of Different as Me 2017 PG-13 6.6/10\\nSarah's Key 2010 PG-13 7.5/10\\nSaving Mr. Banks 2013 PG-13 7.5/10\\nSaving Zoë 2019 R 5.2/10\\nScales: Mermaids Are Real 2017 PG 4.5/10\\nSchindler's List 1993 TV-MA 8.9/10\\nSchool Daze 1988 R 6.0/10\\nScorpion King 5: Book of Souls 2018 PG-13 4.6/10\\nScott Pilgrim vs. the World 2010 PG-13 7.5/10\\nScrewed 2000 PG-13 5.8/10\\nSeabiscuit 2003 PG-13 0.78\\nSearch Party 2014 R 5.6/10\\nSecret in Their Eyes 2015 PG-13 6.3/10\\nSelfless 2015 PG-13 6.5/10\\nSenna 2010 PG-13 8.5/10\\nSergio 2020 R 6.2/10\\nSeriously Single 2020 TV-MA\\nSession 9 2001 R 6.4/10\\nSet Up 2011 R 4.4/10\\nSeven (Tamil) 2019 TV-14 5.2/10\\nSeven in Heaven 2018 PG-13 5.3/10\\nShaitan 2011 TV-MA 7.2/10\\nShark Night 2011 PG-13 4.0/10\\nShe's Gotta Have It 1986 R 6.7/10\\nShepherds and Butchers 2016 R 6.8/10\\nShine Your Eyes 2020 TV-MA\\nShorts 2009 PG 4.7/10\\nShot Caller 2017 R 7.3/10\\nSi Doel the Movie 3 (Akhir Kisah Cinta Si Doel) 2020 TV-G 6.7/10\\nSierra Burgess Is a Loser 2018 PG-13 5.8/10\\nSilence of the Lambs 1991 TV-MA 8.2/10\\nSilent Hill: Revelation 2012 R 5.0/10\\nSilver Linings Playbook 2012 R 7.7/10\\nSin City 2005 R 8.0/10\\nSin City 2019 TV-14\\nSingularity 2017 PG-13 3.8/10\\nSinister 2012 R 6.8/10\\nSinister 2 2015 R 5.3/10\\nSister Code 2015 R 4.7/10\\nSkin 2019 TV-MA\\nSkiptrace 2016 PG-13 5.7/10\\nSleeping with Other People 2015 R 6.5/10\\nSleepless 2017 R 5.6/10\\nSleepless in Seattle 1993 PG 6.8/10\\nSleepover 2004 PG 5.3/10\\nSleepy Hollow 1999 R 7.3/10\\nSMOSH: The Movie 2015 PG-13 3.3/10\\nSniper: Special Ops 2016 R 3.2/10\\nSnowpiercer 2013 R 7.1/10\\nSolo 2018 TV-MA 4.9/10\\nSome Kind of Beautiful 2014 R 5.7/10\\nSomeone Great 2019 R 6.2/10\\nSong of the Sea 2014 PG 8.1/10\\nSoul Plane 2004 R 4.5/10\\nSoul Surfer 2011 PG 7.0/10\\nSpaceballs 1987 PG 7.1/10\\nSparks 2016 G\\nSpecial 26 2013 TV-PG 8.0/10\\nSpeech & Debate 2017 PG-13 5.9/10\\nSpelling the Dream 2020 TV-G 9.5/10\\nSpenser Confidential 2020 R 6.2/10\\nSPF-18 2017 PG-13 3.2/10\\nSpider-Man: Into the Spider-Verse 2018 PG 8.4/10\\nSplice 2009 R 5.7/10\\nSpookley the Square Pumpkin 2004 G 5.0/10\\nSpotlight 2015 R 0.97\\nSpy Kids: All the Time in the World 2011 PG\\nStand and Deliver 1988 PG 7.3/10\\nStardust 2007 PG-13 7.6/10\\nStarship Troopers 1997 R 7.2/10\\nStarsky & Hutch 2004 PG-13 6.1/10\\nStep Sisters 2018 PG-13 5.4/10\\nStephanie 2017 R 5.8/10\\nSteve Jobs 2015 R 7.2/10\\nStraight Up 2019 TV-MA 6.8/10\\nStrange Weather 2016 R 5.9/10\\nStray Bullet 2010 TV-MA 6.4/10\\nSucker Punch 2011 PG-13 6.0/10\\nSuffragette 2015 PG-13 6.9/10\\nSugar Rush 2019 TV-14 7.7/10\\nSunday's Illness 2017 PG-13 6.9/10\\nSuper Monsters: The New Class 2020 TV-Y\\nSwearnet: The Movie 2014 NC-17 5.9/10\\nSweet Virginia 2017 R 6.2/10\\nSweetheart 2019 PG-13 5.7/10\\nSwimming Pool 2003 R 6.7/10\\nSwiss Army Man 2016 R 7.0/10\\nSword Masters: Two Champions of Shaolin 1980 R 6.4/10\\nSwordfish 2001 R 6.5/10\\nSylvia 2018 TV-MA\\nTaare Zameen Par 2007 PG 8.4/10\\nTad the Lost Explorer and the Secret of King Midas (English Version) 2017 PG 6.2/10\\nTales From the Hood 2 2018 R 4.4/10\\nTanu Weds Manu 2011 TV-14 6.7/10\\nTarek\\\\'s Situation (Zarf Tarek) 2006 TV-14 6.9/10\\nTAU 2018 R 5.8/10\\nTaxi Driver 1976 R 8.3/10\\nTerm Life 2016 R 5.5/10\\nTerminator 3: Rise of the Machines 2003 R 6.3/10Terminator Salvation 2009 PG-13 6.5/10\\nThackeray 2019 TV-14 5.2/10\\nThackeray 2019 TV-14 5.2/10\\nThe Addams Family 1991 PG-13 0.64\\nThe Adventures of Sharkboy and Lavagirl 2005 PG 3.5/10\\nThe Angry Birds Movie 2 2019 PG 6.4/10\\nThe Art of the Steal 2013 R 6.3/10\\nThe Art of War 2000 R 5.7/10\\nThe Artist 2011 PG-13 7.9/10\\nThe Assignment 2016 R 4.6/10\\nThe Autopsy of Jane Doe 2016 R 6.8/10\\nThe Bad Batch 2016 R 5.3/10\\nThe Ballad of Buster Scruggs 2018 R 7.3/10\\nThe Ballad of Lefty Brown 2017 R 6.3/10\\nThe Beach Loafer (Saye Bahr) 2004 TV-14 4.4/10\\nThe Black Prince 2017 PG-13 6.6/10\\nThe Blazing Sun (Struggle in the Valley) 1954 TV-14 7.7/10\\nThe Bling Ring 2013 R 5.6/10\\nThe Bounty Hunter 2010 PG-13 5.6/10\\nThe Boy 2016 TV-MA 5.8/10\\nThe Breadwinner 2017 PG-13 7.7/10\\nThe Brothers 2001 R 0.63\\nThe Bye Bye Man 2017 PG-13 4.2/10\\nThe Car 1977 PG 6.2/10\\nThe CEO 2016 TV-14 6.2/10\\nThe Clapper 2017 R 5.1/10\\nThe Claudia Kishi Club 2020 TV-14\\nThe Clique 2008 PG 5.1/10\\nThe Cloverfield Paradox 2018 PG-13 5.5/10\\nThe Command 2018 PG-13 6.6/10\\nThe Confirmation 2016 PG-13 6.4/10\\nThe Core 2003 PG-13 5.5/10\\nThe Croods 2013 PG\\nThe Danish Girl 2015 R 7.1/10\\nThe Darkness 2016 PG-13 4.4/10\\nThe Death of Mr. Lazarescu 2005 R 7.9/10\\nThe Death of Stalin 2017 R 7.2/10\\nThe Delivery Boy 2018 TV-14 0\\nThe Devil's Advocate 1997 R 7.3/10\\nThe Disaster Artist 2017 R 7.4/10\\nThe Duel 2016 R 5.8/10\\nThe Emigrant 1994 TV-14 6.6/10\\nThe End 2019 TV-14 5.7/10\\nThe Exception 2016 R 6.8/10\\nThe Expatriate 2012 R\\nThe F**k-It List 2019 TV-MA\\nThe Family 2013 R 6.3/10\\nThe Figurine (Araromire) 2009 TV-14 4.5/10\\nThe Firm 1993 R 6.8/10\\nThe Five Venoms 1978 R 7.1/10\\nThe Florida Project 2017 R 7.6/10\\nThe Foreigner 2017 R 7.0/10\\nThe Forest 2016 PG-13 4.8/10\\nThe Gift 2015 R 7.0/10\\nThe Girl with All the Gifts 2016 R 6.6/10\\nThe Good, the Bad and the Ugly 1966 R 8.8/10\\nThe Grandmaster 2013 PG-13 6.6/10\\nThe Green Hornet 2011 PG-13 5.8/10\\nThe Green Inferno 2013 R 5.3/10\\nThe Guest 2014 R 6.7/10\\nThe Half Of It 2020 PG-13\\nThe Hateful Eight 2015 R 7.8/10\\nThe Hateful Eight: Extended Version 2015 R\\nThe Hater 2020 TV-MA\\nThe Healer 2017 TV-PG 6.3/10\\nThe Heartbreak Kid 2007 R 5.8/10\\nThe Help 2011 PG-13 8.1/10\\nThe Highwaymen 2019 R 6.9/10\\nThe Hundred-Foot Journey 2014 PG 7.3/10\\nThe Hurricane Heist 2018 PG-13 5.1/10\\nThe Interview 2014 R 6.5/10\\nThe Irishman 2019 R 7.9/10\\nThe Iron Lady 2011 PG-13 6.4/10\\nThe Journey Is the Destination 2016 R 6.3/10\\nThe Karate Kid 1984 PG 7.2/10\\nThe Karate Kid Part II 1986 PG 6.0/10\\nThe Karate Kid Part III 1989 PG 5.2/10\\nThe Keeping Hours 2017 PG-13 6.3/10\\nThe Killing of a Sacred Deer 2017 R 7.0/10\\nThe Kindergarten Teacher 2018 R 6.7/10\\nThe King 2019 R 7.3/10\\nThe Kissing Booth 2 2020 TV-14\\nThe Lake House 2006 PG 6.8/10\\nThe Land 1970 TV-MA 8.2/10\\nThe Larva Island Movie 2020 TV-Y7\\nThe Last Airbender 2010 PG 4.1/10\\nThe Last Days of American Crime 2020 TV-MA 6.1/10\\nThe Last Days of Chez Nous 1992 R 6.6/10\\nThe Last Thing He Wanted 2020 R 4.2/10\\nThe Last Whistle 2019 PG 4.9/10\\nThe Laundromat 2019 R 6.3/10\\nThe Letter Reader 2019 TV-PG\\nThe Light of My Eyes (Nour Einy) 2010 PG-13 5.8/10\\nThe Lincoln Lawyer 2011 R 7.3/10\\nThe Little Hours 2017 R 5.8/10\\nThe Little Prince 2015 PG 7.7/10\\nThe Lobster 2015 R 7.2/10\\nThe Lodgers 2017 R 5.1/10\\nThe Long Dumb Road 2018 R 6.0/10\\nThe Lost World: Jurassic Park 1997 PG-13 0.51The Lovebirds 2020 R 7.0/10\\nThe Lovers 2017 R 6.1/10\\nThe Master 2012 R 7.2/10\\nThe Millions 2019 TV-MA\\nThe Mirror Boy 2011 TV-14 6.5/10\\nThe Money Pit 1986 PG 6.4/10\\nThe Monster 2016 R 5.4/10\\nThe Naked Gun: From the Files of Police Squad! 1988 PG-13 7.6/10\\nThe NeverEnding Story 1984 PG 0.8\\nThe NeverEnding Story 2: The Next Chapter 1990 PG\\nThe Night Clerk 2020 R 5.2/10\\nThe Notebook 2004 PG-13 0.53\\nThe Nut Job 2014 PG 5.6/10\\nThe Nutcracker and the Four Realms 2018 PG 5.5/10\\nThe Old Guard 2020 R\\nThe One I Love 2014 R 7.1/10\\nThe Other 1999 TV-MA 6.0/10\\nThe Other Guys 2010 PG-13 6.6/10\\nThe Other Side of the Wind 2018 R 6.8/10\\nThe Ottoman Lieutenant 2017 R 0.19\\nThe Outcasts 2017 PG-13 5.5/10\\nThe Patriot 2000 R 7.2/10\\nThe Perfect Picture: Ten Years Later 2019 TV-MA\\nThe Perks of Being a Wallflower 2012 PG-13 8.0/10\\nThe Pixar Story 2007 G 7.8/10\\nThe Players (Gli infedeli) 2019 TV-MA\\nThe Princess and the Frog 2009 G 7.1/10\\nThe Queen 2006 PG-13 7.3/10\\nThe Recall 2017 R 4.3/10\\nThe Reliant 2019 PG-13 3.7/10\\nThe Remix: Hip Hop X Fashion 2019 TV-MA\\nThe Ronda Rousey Story: Through My Father's Eyes 2019 R 6.1/10\\nThe Roommate 2011 PG-13 4.8/10\\nThe Royal Hibiscus Hotel 2017 TV-PG 5.1/10\\nThe Rugrats Movie 1998 G 5.9/10\\nThe Rum Diary 2011 R 6.2/10\\nThe Runaways 2010 R 6.5/10\\nThe Runner 2015 R 4.7/10\\nThe Sapphires 2012 PG-13 7.0/10\\nThe Sea of Trees 2015 PG-13 6.1/10\\nThe Secret Life of Pets 2 2019 PG 6.5/10\\nThe Short Game 2013 PG 7.4/10\\nThe Show (This Is Your Death) 2017 R 5.6/10\\nThe Show Must Go On: The Queen + Adam Lambert Story 2019 TV-MA 8.5/10\\nThe Signal 2014 PG-13 6.1/10\\nThe Silence of Others 2018 TV-14 8.0/10\\nThe Social Network 2010 PG-13 7.7/10\\nThe Space Between Us 2016 PG-13 6.4/10\\nThe Speed Cubers 2020 TV-PG\\nThe Spiderwick Chronicles 2008 PG 6.5/10\\nThe Squid and the Whale 2005 R 7.3/10\\nThe Stand at Paxton County 2020 R\\nThe Stolen 2017 TV-14 5.2/10\\nThe Story of Us 1999 R 0.26\\nThe Super 2017 R 5.9/10\\nThe Taking of Pelham 123 2009 R 6.4/10\\nThe Theory of Everything 2014 PG-13 7.7/10\\nThe Town 2010 R 7.5/10\\nThe Tree of Blood 2018 TV-MA 6.4/10\\nThe Tribes of Palos Verdes 2017 R 5.8/10\\nThe Trust 2015 R 5.4/10\\nThe Two Popes 2019 PG-13 7.6/10\\nThe Ugly Truth 2009 R 0.14\\nThe Unbeatables 2015 PG 6.5/10\\nThe Unknown Known 2013 PG-13 7.0/10\\nThe Vatican Tapes 2015 PG-13 4.9/10\\nThe Watcher 2000 R 5.3/10\\nThe Water Diviner 2014 R 7.0/10\\nThe Wicker Man 1973 R 7.5/10\\nThe Willoughbys 2020 PG\\nThe Witch 2015 R 6.9/10\\nThe Witch: Part 1 - The Subversion 2018 TV-MA 7.1/10\\nThe Witches 1990 PG 6.8/10\\nThe World Is Not Enough 1999 PG-13 6.4/10\\nThe World We Make 2019 PG 5.1/10\\nThe Wrong Missy 2020 TV-MA 0\\nThere Will Be Blood 2007 R 8.2/10\\nThis Christmas 2007 PG-13 6.3/10\\nTigertail 2020 PG 6.4/10\\nTini: The New Life of Violetta 2016 G 5.5/10\\nTinker Bell and the Legend of the NeverBeast 2014 G 7.3/10\\nTinker, Tailor, Soldier, Spy 2011 R 7.1/10\\nTo Wong Foo, Thanks for Everything! Julie Newmar 1995 PG-13 6.6/10\\nTomorrow Never Dies 1997 PG-13 6.5/10\\nTootsie 1982 PG 7.4/10\\nTotal Recall 1990 R 7.5/10\\nTrailer Park Boys: Countdown to Liquor Day 2009 R 7.4/10\\nTrailer Park Boys: The Movie 2006 R 7.2/10\\nTread 2020 TV-MA 0.9\\nTremors: A Cold Day in Hell 2018 PG-13 5.0/10\\nTrespass Against Us 2016 R 5.8/10\\nTriple Frontier 2019 R 6.4/10\\nTriple Threat 2019 R 5.5/10\\nTrue: Rainbow Rescue 2020 TV-Y 0\\nTrumbo 2015 R 7.5/10\\nTucker and Dale vs. Evil 2010 R 7.5/10\\nTurbo 2013 PG 6.4/10\\nUma Maheswara Ugra Roopasya 2020 TV-MA\\nUna 2016 R 6.2/10\\nUnbreakable Kimmy Schmidt: Kimmy vs. the Reverend 2020 TV-14 0Uncut Gems 2019 R 7.5/10\\nUndefeated 2011 PG-13 7.7/10\\nUnder the Riccione Sun 2020 TV-MA\\nUnder the Shadow 2016 PG-13 6.9/10\\nUndercover Brother 2 2019 R 3.4/10\\nUndercover Grandpa 2016 PG-13 5.2/10\\nUnderworld 2003 R 7.0/10\\nUnderworld: Evolution 2006 R 6.7/10\\nUnderworld: Rise of the Lycans 2009 R 6.6/10\\nUnfinished Song 2012 PG-13 7.0/10\\nUnited 93 2006 PG 7.1/10\\nUrban Cowboy 1980 PG 6.3/10\\nUSS Indianapolis: Men of Courage 2016 R 5.2/10\\nV for Vendetta 2005 PG 8.2/10\\nValentine's Day 2010 PG-13 5.7/10\\nVelvet Buzzsaw 2019 R 5.7/10\\nViking Destiny 2018 R 4.2/10\\nVincent N Roxxy 2016 R 5.5/10\\nVisions 2015 R 5.3/10\\nVivah 2006 TV-14 6.6/10\\nW.E. 2011 R 6.3/10\\nWadjda 2012 PG 7.5/10\\nWakefield 2016 R 6.3/10\\nWalk Hard: The Dewey Cox Story 2007 R 6.8/10\\nWalking Out 2017 PG-13 5.8/10\\nWar Horse 2011 PG-13 7.2/10\\nWar on Everyone 2016 R 5.8/10\\nWasp Network 2019 TV-MA 5.5/10\\nWe Are Your Friends 2015 R 6.2/10\\nWe the Animals 2018 R 6.9/10\\nWedy Atkalam 2018 TV-PG 0\\nWest Side Story 1961 R 7.3/10\\nWhat a Girl Wants 2003 PG 5.8/10\\nWhat Are the Odds? 2019 TV-MA\\nWhat Keeps You Alive 2018 R 0.83\\nWhat the Fish 2013 TV-14 5.1/10\\nWhat\\\\'s Up? 2006 TV-G 0\\nWhere the Money Is 2000 PG-13 6.2/10\\nWhile We're Young 2015 R 6.3/10\\nWild Oats 2016 PG-13 5.7/10\\nWildling 2018 R 5.5/10\\nWinchester 2018 PG-13 5.4/10\\nWine Country 2019 R 5.4/10\\nWira 2019 TV-14 6.5/10\\nWish I Was Here 2014 R 6.7/10\\nWives on Strike 2016 TV-14 3.7/10\\nWoodshock 2017 R 4.3/10\\nWoody Woodpecker 2017 PG 4.1/10\\nY Tu Mamá También 2001 R 7.6/10\\nYellowbird 2014 PG 5.6/10\\nYou Don't Mess with the Zohan 2008 PG-13 5.5/10\\nYour Excellency 2019 TV-G\\nZack and Miri Make a Porno 2008 R 6.5/10\\nZaki Chan (Zaky Chan) 2005 TV-14 6.5/10\\nZodiac 2007 R 7.7/10\\nZokkomon 2011 PG 4.1/10\\nZookeeper 2011 PG 0.14\""
      ]
     },
     "execution_count": 60,
     "metadata": {},
     "output_type": "execute_result"
    }
   ],
   "source": [
    "full_table3"
   ]
  },
  {
   "cell_type": "code",
   "execution_count": null,
   "metadata": {},
   "outputs": [],
   "source": []
  }
 ],
 "metadata": {
  "kernelspec": {
   "display_name": "Python 3",
   "language": "python",
   "name": "python3"
  },
  "language_info": {
   "codemirror_mode": {
    "name": "ipython",
    "version": 3
   },
   "file_extension": ".py",
   "mimetype": "text/x-python",
   "name": "python",
   "nbconvert_exporter": "python",
   "pygments_lexer": "ipython3",
   "version": "3.7.6"
  }
 },
 "nbformat": 4,
 "nbformat_minor": 4
}
